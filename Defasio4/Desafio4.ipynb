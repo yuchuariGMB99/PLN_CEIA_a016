{
 "cells": [
  {
   "cell_type": "markdown",
   "metadata": {
    "id": "1nL7fF8elThg"
   },
   "source": [
    "**Desafío 4**\n",
    "\n",
    "Alumno: Yandri Uchuari Gallardo\n",
    "\n",
    "Utilizar otro dataset y\n",
    "poner en práctica\n",
    " la generación de\n",
    "secuencias con las\n",
    "estrategias presentadas."
   ]
  },
  {
   "cell_type": "code",
   "execution_count": null,
   "metadata": {
    "id": "xRrvhA2DlOjv"
   },
   "outputs": [],
   "source": [
    "!pip install -q gradio\n"
   ]
  },
  {
   "cell_type": "markdown",
   "metadata": {},
   "source": [
    "Importa librerías necesarias: manejo de datos (numpy, pandas), visualización (matplotlib), entrenamiento de modelos (sklearn, tensorflow/keras) y funciones auxiliares."
   ]
  },
  {
   "cell_type": "code",
   "execution_count": null,
   "metadata": {
    "id": "sVLE1rHGoJVZ"
   },
   "outputs": [],
   "source": [
    "import random\n",
    "import io\n",
    "import pickle\n",
    "\n",
    "import numpy as np\n",
    "import pandas as pd\n",
    "import matplotlib.pyplot as plt\n",
    "from sklearn.model_selection import train_test_split\n",
    "\n",
    "from tensorflow import keras\n",
    "from tensorflow.keras import layers\n",
    "from keras.utils import to_categorical\n",
    "from keras.models import Sequential\n",
    "from keras.layers import Dense, LSTM, Embedding, Dropout\n",
    "from tensorflow.keras.losses import SparseCategoricalCrossentropy\n"
   ]
  },
  {
   "cell_type": "code",
   "execution_count": null,
   "metadata": {
    "id": "71n38vKaoJZ_"
   },
   "outputs": [],
   "source": [
    "import seaborn as sns\n",
    "sns.set(style=\"whitegrid\", palette=\"muted\")\n",
    "\n",
    "random.seed(1)\n",
    "np.random.seed(1)\n"
   ]
  },
  {
   "cell_type": "markdown",
   "metadata": {},
   "source": [
    "Cargamos el dataset (probablemente un corpus de texto), prepara los datos y organiza los conjuntos de entrenamiento y prueba."
   ]
  },
  {
   "cell_type": "code",
   "execution_count": null,
   "metadata": {
    "colab": {
     "base_uri": "https://localhost:8080/"
    },
    "executionInfo": {
     "elapsed": 178,
     "status": "ok",
     "timestamp": 1756081785113,
     "user": {
      "displayName": "Yandri Uchuari",
      "userId": "04950616635261089131"
     },
     "user_tz": 300
    },
    "id": "-1xclOUroJcv",
    "outputId": "cb2f90ca-8b11-49bf-c678-83c53e0aeeaf"
   },
   "outputs": [
    {
     "name": "stdout",
     "output_type": "stream",
     "text": [
      "The Project Gutenberg eBook of The Odyssey, by Homer\r\n",
      "\r\n",
      "This eBook is for the use of anyone anywhere in the United States and\r\n",
      "most other parts of the world at no cost and with almost no restrictions\r\n",
      "whatsoever. You may copy it, give it away or re-use it under the terms\r\n",
      "of the Project Gutenberg License included with this eBook or online at\r\n",
      "www.gutenberg.org. If you are not located in the United States, you\r\n",
      "will have to check the laws of the country where you are located before\r\n",
      "using this e\n"
     ]
    }
   ],
   "source": [
    "import requests\n",
    "\n",
    "# Descargar corpus desde Proyecto Gutenberg (ejemplo: \"La Odisea\")\n",
    "url_texto = \"https://www.gutenberg.org/files/1727/1727-0.txt\"\n",
    "respuesta = requests.get(url_texto)\n",
    "texto_original = respuesta.text\n",
    "\n",
    "# Mostrar vista previa\n",
    "print(texto_original[:500])\n"
   ]
  },
  {
   "cell_type": "code",
   "execution_count": null,
   "metadata": {
    "colab": {
     "base_uri": "https://localhost:8080/"
    },
    "executionInfo": {
     "elapsed": 38,
     "status": "ok",
     "timestamp": 1756081828536,
     "user": {
      "displayName": "Yandri Uchuari",
      "userId": "04950616635261089131"
     },
     "user_tz": 300
    },
    "id": "JvDOBUceoJfa",
    "outputId": "f14ffe98-cc03-4949-947a-3af4b2c04c96"
   },
   "outputs": [
    {
     "name": "stdout",
     "output_type": "stream",
     "text": [
      "Longitud del corpus: 673801\n",
      "Vista previa del corpus: the project gutenberg ebook of the odyssey by homer this ebook is for the use of anyone anywhere in the united states and most other parts of the world at no cost and with almost no restrictions whatsoever you may copy it give it away or re use it under the terms of the project gutenberg license inc\n"
     ]
    }
   ],
   "source": [
    "import re\n",
    "\n",
    "def limpiar_texto(texto: str) -> str:\n",
    "    \"\"\"Convierte a minúsculas, elimina caracteres no alfabéticos y normaliza espacios.\"\"\"\n",
    "    texto = texto.lower()\n",
    "    texto = re.sub(r\"[^a-záéíóúñü\\s]\", \" \", texto)\n",
    "    texto = re.sub(r\"\\s+\", \" \", texto).strip()\n",
    "    return texto\n",
    "\n",
    "\n",
    "# Corpus final para entrenar el modelo\n",
    "corpus = texto_limpio\n",
    "print(\"Longitud del corpus:\", len(corpus))\n",
    "print(\"Vista previa del corpus:\", corpus[:300])\n",
    "\n"
   ]
  },
  {
   "cell_type": "code",
   "execution_count": null,
   "metadata": {
    "colab": {
     "base_uri": "https://localhost:8080/"
    },
    "executionInfo": {
     "elapsed": 5,
     "status": "ok",
     "timestamp": 1756081847466,
     "user": {
      "displayName": "Yandri Uchuari",
      "userId": "04950616635261089131"
     },
     "user_tz": 300
    },
    "id": "8f1l9pXfoJiD",
    "outputId": "7c8d3292-72e0-4f7e-ee5d-f21cf5d4e526"
   },
   "outputs": [
    {
     "name": "stdout",
     "output_type": "stream",
     "text": [
      "Número de caracteres únicos: 27\n",
      "Ejemplo de caracteres: [' ', 'a', 'b', 'c', 'd', 'e', 'f', 'g', 'h', 'i', 'j', 'k', 'l', 'm', 'n', 'o', 'p', 'q', 'r', 's', 't', 'u', 'v', 'w', 'x', 'y', 'z']\n"
     ]
    }
   ],
   "source": [
    "# Extraer todos los caracteres únicos del corpus\n",
    "caracteres = sorted(list(set(corpus)))\n",
    "print(\"Número de caracteres únicos:\", len(caracteres))\n",
    "print(\"Ejemplo de caracteres:\", caracteres[:50])\n",
    "\n",
    "# Diccionarios de conversión\n",
    "char_to_idx = {c: i for i, c in enumerate(caracteres)}\n",
    "idx_to_char = {i: c for i, c in enumerate(caracteres)}\n"
   ]
  },
  {
   "cell_type": "code",
   "execution_count": null,
   "metadata": {
    "colab": {
     "base_uri": "https://localhost:8080/"
    },
    "executionInfo": {
     "elapsed": 1352,
     "status": "ok",
     "timestamp": 1756081862111,
     "user": {
      "displayName": "Yandri Uchuari",
      "userId": "04950616635261089131"
     },
     "user_tz": 300
    },
    "id": "rM7gbKRPoqLR",
    "outputId": "1ff2487b-415f-4e7b-a81c-1cc99ef463c0"
   },
   "outputs": [
    {
     "name": "stdout",
     "output_type": "stream",
     "text": [
      "Número de secuencias: 224587\n"
     ]
    }
   ],
   "source": [
    "seq_length = 40  # longitud de cada secuencia de entrada\n",
    "step = 3         # salto entre secuencias\n",
    "\n",
    "x_data = []\n",
    "y_data = []\n",
    "\n",
    "for i in range(0, len(corpus) - seq_length, step):\n",
    "    seq_in = corpus[i:i + seq_length]\n",
    "    seq_out = corpus[i + seq_length]\n",
    "    x_data.append([char_to_idx[ch] for ch in seq_in])\n",
    "    y_data.append(char_to_idx[seq_out])\n",
    "\n",
    "print(\"Número de secuencias:\", len(x_data))\n"
   ]
  },
  {
   "cell_type": "code",
   "execution_count": null,
   "metadata": {
    "colab": {
     "base_uri": "https://localhost:8080/"
    },
    "executionInfo": {
     "elapsed": 919,
     "status": "ok",
     "timestamp": 1756081878081,
     "user": {
      "displayName": "Yandri Uchuari",
      "userId": "04950616635261089131"
     },
     "user_tz": 300
    },
    "id": "R9sNQDrjoqOA",
    "outputId": "21ac0253-5318-4850-e2c4-e1e2922fe322"
   },
   "outputs": [
    {
     "name": "stdout",
     "output_type": "stream",
     "text": [
      "Forma de X: (224587, 40)\n",
      "Forma de y: (224587, 27)\n"
     ]
    }
   ],
   "source": [
    "import numpy as np\n",
    "from tensorflow.keras.utils import to_categorical\n",
    "\n",
    "# Convertir a tensores NumPy\n",
    "X = np.array(x_data)\n",
    "y = np.array(y_data)\n",
    "\n",
    "# One-hot encoding de las salidas\n",
    "y = to_categorical(y, num_classes=len(caracteres))\n",
    "\n",
    "print(\"Forma de X:\", X.shape)\n",
    "print(\"Forma de y:\", y.shape)\n"
   ]
  },
  {
   "cell_type": "code",
   "execution_count": null,
   "metadata": {
    "colab": {
     "base_uri": "https://localhost:8080/",
     "height": 293
    },
    "executionInfo": {
     "elapsed": 251,
     "status": "ok",
     "timestamp": 1756081891537,
     "user": {
      "displayName": "Yandri Uchuari",
      "userId": "04950616635261089131"
     },
     "user_tz": 300
    },
    "id": "73nHnI5OoqQv",
    "outputId": "15b45a16-6c21-4fce-a8d8-172763a9900d"
   },
   "outputs": [
    {
     "name": "stderr",
     "output_type": "stream",
     "text": [
      "/usr/local/lib/python3.12/dist-packages/keras/src/layers/core/embedding.py:97: UserWarning: Argument `input_length` is deprecated. Just remove it.\n",
      "  warnings.warn(\n"
     ]
    },
    {
     "data": {
      "text/html": [
       "<pre style=\"white-space:pre;overflow-x:auto;line-height:normal;font-family:Menlo,'DejaVu Sans Mono',consolas,'Courier New',monospace\"><span style=\"font-weight: bold\">Model: \"sequential\"</span>\n",
       "</pre>\n"
      ],
      "text/plain": [
       "\u001b[1mModel: \"sequential\"\u001b[0m\n"
      ]
     },
     "metadata": {},
     "output_type": "display_data"
    },
    {
     "data": {
      "text/html": [
       "<pre style=\"white-space:pre;overflow-x:auto;line-height:normal;font-family:Menlo,'DejaVu Sans Mono',consolas,'Courier New',monospace\">┏━━━━━━━━━━━━━━━━━━━━━━━━━━━━━━━━━┳━━━━━━━━━━━━━━━━━━━━━━━━┳━━━━━━━━━━━━━━━┓\n",
       "┃<span style=\"font-weight: bold\"> Layer (type)                    </span>┃<span style=\"font-weight: bold\"> Output Shape           </span>┃<span style=\"font-weight: bold\">       Param # </span>┃\n",
       "┡━━━━━━━━━━━━━━━━━━━━━━━━━━━━━━━━━╇━━━━━━━━━━━━━━━━━━━━━━━━╇━━━━━━━━━━━━━━━┩\n",
       "│ embedding (<span style=\"color: #0087ff; text-decoration-color: #0087ff\">Embedding</span>)           │ ?                      │   <span style=\"color: #00af00; text-decoration-color: #00af00\">0</span> (unbuilt) │\n",
       "├─────────────────────────────────┼────────────────────────┼───────────────┤\n",
       "│ lstm (<span style=\"color: #0087ff; text-decoration-color: #0087ff\">LSTM</span>)                     │ ?                      │   <span style=\"color: #00af00; text-decoration-color: #00af00\">0</span> (unbuilt) │\n",
       "├─────────────────────────────────┼────────────────────────┼───────────────┤\n",
       "│ dropout (<span style=\"color: #0087ff; text-decoration-color: #0087ff\">Dropout</span>)               │ ?                      │             <span style=\"color: #00af00; text-decoration-color: #00af00\">0</span> │\n",
       "├─────────────────────────────────┼────────────────────────┼───────────────┤\n",
       "│ dense (<span style=\"color: #0087ff; text-decoration-color: #0087ff\">Dense</span>)                   │ ?                      │   <span style=\"color: #00af00; text-decoration-color: #00af00\">0</span> (unbuilt) │\n",
       "└─────────────────────────────────┴────────────────────────┴───────────────┘\n",
       "</pre>\n"
      ],
      "text/plain": [
       "┏━━━━━━━━━━━━━━━━━━━━━━━━━━━━━━━━━┳━━━━━━━━━━━━━━━━━━━━━━━━┳━━━━━━━━━━━━━━━┓\n",
       "┃\u001b[1m \u001b[0m\u001b[1mLayer (type)                   \u001b[0m\u001b[1m \u001b[0m┃\u001b[1m \u001b[0m\u001b[1mOutput Shape          \u001b[0m\u001b[1m \u001b[0m┃\u001b[1m \u001b[0m\u001b[1m      Param #\u001b[0m\u001b[1m \u001b[0m┃\n",
       "┡━━━━━━━━━━━━━━━━━━━━━━━━━━━━━━━━━╇━━━━━━━━━━━━━━━━━━━━━━━━╇━━━━━━━━━━━━━━━┩\n",
       "│ embedding (\u001b[38;5;33mEmbedding\u001b[0m)           │ ?                      │   \u001b[38;5;34m0\u001b[0m (unbuilt) │\n",
       "├─────────────────────────────────┼────────────────────────┼───────────────┤\n",
       "│ lstm (\u001b[38;5;33mLSTM\u001b[0m)                     │ ?                      │   \u001b[38;5;34m0\u001b[0m (unbuilt) │\n",
       "├─────────────────────────────────┼────────────────────────┼───────────────┤\n",
       "│ dropout (\u001b[38;5;33mDropout\u001b[0m)               │ ?                      │             \u001b[38;5;34m0\u001b[0m │\n",
       "├─────────────────────────────────┼────────────────────────┼───────────────┤\n",
       "│ dense (\u001b[38;5;33mDense\u001b[0m)                   │ ?                      │   \u001b[38;5;34m0\u001b[0m (unbuilt) │\n",
       "└─────────────────────────────────┴────────────────────────┴───────────────┘\n"
      ]
     },
     "metadata": {},
     "output_type": "display_data"
    },
    {
     "data": {
      "text/html": [
       "<pre style=\"white-space:pre;overflow-x:auto;line-height:normal;font-family:Menlo,'DejaVu Sans Mono',consolas,'Courier New',monospace\"><span style=\"font-weight: bold\"> Total params: </span><span style=\"color: #00af00; text-decoration-color: #00af00\">0</span> (0.00 B)\n",
       "</pre>\n"
      ],
      "text/plain": [
       "\u001b[1m Total params: \u001b[0m\u001b[38;5;34m0\u001b[0m (0.00 B)\n"
      ]
     },
     "metadata": {},
     "output_type": "display_data"
    },
    {
     "data": {
      "text/html": [
       "<pre style=\"white-space:pre;overflow-x:auto;line-height:normal;font-family:Menlo,'DejaVu Sans Mono',consolas,'Courier New',monospace\"><span style=\"font-weight: bold\"> Trainable params: </span><span style=\"color: #00af00; text-decoration-color: #00af00\">0</span> (0.00 B)\n",
       "</pre>\n"
      ],
      "text/plain": [
       "\u001b[1m Trainable params: \u001b[0m\u001b[38;5;34m0\u001b[0m (0.00 B)\n"
      ]
     },
     "metadata": {},
     "output_type": "display_data"
    },
    {
     "data": {
      "text/html": [
       "<pre style=\"white-space:pre;overflow-x:auto;line-height:normal;font-family:Menlo,'DejaVu Sans Mono',consolas,'Courier New',monospace\"><span style=\"font-weight: bold\"> Non-trainable params: </span><span style=\"color: #00af00; text-decoration-color: #00af00\">0</span> (0.00 B)\n",
       "</pre>\n"
      ],
      "text/plain": [
       "\u001b[1m Non-trainable params: \u001b[0m\u001b[38;5;34m0\u001b[0m (0.00 B)\n"
      ]
     },
     "metadata": {},
     "output_type": "display_data"
    }
   ],
   "source": [
    "from tensorflow.keras.models import Sequential\n",
    "from tensorflow.keras.layers import Embedding, LSTM, Dense, Dropout\n",
    "\n",
    "# Definir el modelo\n",
    "model = Sequential()\n",
    "model.add(Embedding(input_dim=len(caracteres), output_dim=64, input_length=seq_length))\n",
    "model.add(LSTM(128, return_sequences=False))\n",
    "model.add(Dropout(0.2))\n",
    "model.add(Dense(len(caracteres), activation=\"softmax\"))\n",
    "\n",
    "# Compilar\n",
    "model.compile(loss=\"categorical_crossentropy\", optimizer=\"adam\")\n",
    "\n",
    "model.summary()\n"
   ]
  },
  {
   "cell_type": "code",
   "execution_count": null,
   "metadata": {
    "colab": {
     "base_uri": "https://localhost:8080/"
    },
    "executionInfo": {
     "elapsed": 3877395,
     "status": "ok",
     "timestamp": 1756085790814,
     "user": {
      "displayName": "Yandri Uchuari",
      "userId": "04950616635261089131"
     },
     "user_tz": 300
    },
    "id": "Z6pYYVVBoqTU",
    "outputId": "ad33c36a-70ef-4279-db67-bea9fae75b06"
   },
   "outputs": [
    {
     "name": "stdout",
     "output_type": "stream",
     "text": [
      "Epoch 1/20\n",
      "\u001b[1m1580/1580\u001b[0m \u001b[32m━━━━━━━━━━━━━━━━━━━━\u001b[0m\u001b[37m\u001b[0m \u001b[1m199s\u001b[0m 124ms/step - loss: 2.3441 - val_loss: 2.0685\n",
      "Epoch 2/20\n",
      "\u001b[1m1580/1580\u001b[0m \u001b[32m━━━━━━━━━━━━━━━━━━━━\u001b[0m\u001b[37m\u001b[0m \u001b[1m189s\u001b[0m 116ms/step - loss: 1.7788 - val_loss: 1.9474\n",
      "Epoch 3/20\n",
      "\u001b[1m1580/1580\u001b[0m \u001b[32m━━━━━━━━━━━━━━━━━━━━\u001b[0m\u001b[37m\u001b[0m \u001b[1m203s\u001b[0m 117ms/step - loss: 1.6263 - val_loss: 1.8796\n",
      "Epoch 4/20\n",
      "\u001b[1m1580/1580\u001b[0m \u001b[32m━━━━━━━━━━━━━━━━━━━━\u001b[0m\u001b[37m\u001b[0m \u001b[1m181s\u001b[0m 114ms/step - loss: 1.5383 - val_loss: 1.8446\n",
      "Epoch 5/20\n",
      "\u001b[1m1580/1580\u001b[0m \u001b[32m━━━━━━━━━━━━━━━━━━━━\u001b[0m\u001b[37m\u001b[0m \u001b[1m183s\u001b[0m 116ms/step - loss: 1.4814 - val_loss: 1.8189\n",
      "Epoch 6/20\n",
      "\u001b[1m1580/1580\u001b[0m \u001b[32m━━━━━━━━━━━━━━━━━━━━\u001b[0m\u001b[37m\u001b[0m \u001b[1m199s\u001b[0m 114ms/step - loss: 1.4460 - val_loss: 1.8021\n",
      "Epoch 7/20\n",
      "\u001b[1m1580/1580\u001b[0m \u001b[32m━━━━━━━━━━━━━━━━━━━━\u001b[0m\u001b[37m\u001b[0m \u001b[1m180s\u001b[0m 114ms/step - loss: 1.4180 - val_loss: 1.7944\n",
      "Epoch 8/20\n",
      "\u001b[1m1580/1580\u001b[0m \u001b[32m━━━━━━━━━━━━━━━━━━━━\u001b[0m\u001b[37m\u001b[0m \u001b[1m191s\u001b[0m 121ms/step - loss: 1.3913 - val_loss: 1.7872\n",
      "Epoch 9/20\n",
      "\u001b[1m1580/1580\u001b[0m \u001b[32m━━━━━━━━━━━━━━━━━━━━\u001b[0m\u001b[37m\u001b[0m \u001b[1m199s\u001b[0m 119ms/step - loss: 1.3637 - val_loss: 1.7882\n",
      "Epoch 10/20\n",
      "\u001b[1m1580/1580\u001b[0m \u001b[32m━━━━━━━━━━━━━━━━━━━━\u001b[0m\u001b[37m\u001b[0m \u001b[1m184s\u001b[0m 116ms/step - loss: 1.3512 - val_loss: 1.7792\n",
      "Epoch 11/20\n",
      "\u001b[1m1580/1580\u001b[0m \u001b[32m━━━━━━━━━━━━━━━━━━━━\u001b[0m\u001b[37m\u001b[0m \u001b[1m201s\u001b[0m 116ms/step - loss: 1.3312 - val_loss: 1.7825\n",
      "Epoch 12/20\n",
      "\u001b[1m1580/1580\u001b[0m \u001b[32m━━━━━━━━━━━━━━━━━━━━\u001b[0m\u001b[37m\u001b[0m \u001b[1m204s\u001b[0m 117ms/step - loss: 1.3236 - val_loss: 1.7742\n",
      "Epoch 13/20\n",
      "\u001b[1m1580/1580\u001b[0m \u001b[32m━━━━━━━━━━━━━━━━━━━━\u001b[0m\u001b[37m\u001b[0m \u001b[1m203s\u001b[0m 118ms/step - loss: 1.3117 - val_loss: 1.7795\n",
      "Epoch 14/20\n",
      "\u001b[1m1580/1580\u001b[0m \u001b[32m━━━━━━━━━━━━━━━━━━━━\u001b[0m\u001b[37m\u001b[0m \u001b[1m203s\u001b[0m 118ms/step - loss: 1.3024 - val_loss: 1.7801\n",
      "Epoch 15/20\n",
      "\u001b[1m1580/1580\u001b[0m \u001b[32m━━━━━━━━━━━━━━━━━━━━\u001b[0m\u001b[37m\u001b[0m \u001b[1m186s\u001b[0m 118ms/step - loss: 1.2911 - val_loss: 1.7734\n",
      "Epoch 16/20\n",
      "\u001b[1m1580/1580\u001b[0m \u001b[32m━━━━━━━━━━━━━━━━━━━━\u001b[0m\u001b[37m\u001b[0m \u001b[1m181s\u001b[0m 115ms/step - loss: 1.2736 - val_loss: 1.7760\n",
      "Epoch 17/20\n",
      "\u001b[1m1580/1580\u001b[0m \u001b[32m━━━━━━━━━━━━━━━━━━━━\u001b[0m\u001b[37m\u001b[0m \u001b[1m185s\u001b[0m 117ms/step - loss: 1.2683 - val_loss: 1.7847\n",
      "Epoch 18/20\n",
      "\u001b[1m1580/1580\u001b[0m \u001b[32m━━━━━━━━━━━━━━━━━━━━\u001b[0m\u001b[37m\u001b[0m \u001b[1m202s\u001b[0m 117ms/step - loss: 1.2613 - val_loss: 1.7877\n",
      "Epoch 19/20\n",
      "\u001b[1m1580/1580\u001b[0m \u001b[32m━━━━━━━━━━━━━━━━━━━━\u001b[0m\u001b[37m\u001b[0m \u001b[1m187s\u001b[0m 118ms/step - loss: 1.2479 - val_loss: 1.7918\n",
      "Epoch 20/20\n",
      "\u001b[1m1580/1580\u001b[0m \u001b[32m━━━━━━━━━━━━━━━━━━━━\u001b[0m\u001b[37m\u001b[0m \u001b[1m198s\u001b[0m 116ms/step - loss: 1.2415 - val_loss: 1.7912\n"
     ]
    }
   ],
   "source": [
    "# Entrenar el modelo\n",
    "history = model.fit(\n",
    "    X, y,\n",
    "    batch_size=128,\n",
    "    epochs=20,   # puedes aumentar para mejor resultado\n",
    "    validation_split=0.1,\n",
    "    verbose=1\n",
    ")\n"
   ]
  },
  {
   "cell_type": "code",
   "execution_count": null,
   "metadata": {
    "colab": {
     "base_uri": "https://localhost:8080/"
    },
    "executionInfo": {
     "elapsed": 30764,
     "status": "ok",
     "timestamp": 1756085821574,
     "user": {
      "displayName": "Yandri Uchuari",
      "userId": "04950616635261089131"
     },
     "user_tz": 300
    },
    "id": "DfGUBv9IoqV-",
    "outputId": "8e085a13-2137-406c-cd69-d6cdd97c3013"
   },
   "outputs": [
    {
     "name": "stdout",
     "output_type": "stream",
     "text": [
      "Texto generado:\n",
      "\n",
      "the project gutenberg ebook of the odyssey fear in the rest stay the this sons or do not band see so much the then dressed for you when that no to thus when we alchosed it i was to came but as he have make a man s house of all this they have then something with all the men shall go but i was while the suitors for the sun in the most and g\n"
     ]
    }
   ],
   "source": [
    "import numpy as np\n",
    "\n",
    "def generar_texto(modelo, semilla, longitud=400, temperatura=1.0):\n",
    "\n",
    "    resultado = semilla\n",
    "    entrada = [char_to_idx[c] for c in semilla]\n",
    "\n",
    "    for _ in range(longitud):\n",
    "        x_pred = np.array([entrada[-seq_length:]])  # última ventana\n",
    "        preds = modelo.predict(x_pred, verbose=0)[0]\n",
    "\n",
    "        # Ajustar por temperatura\n",
    "        preds = np.asarray(preds).astype(\"float64\")\n",
    "        preds = np.log(preds + 1e-8) / temperatura\n",
    "        exp_preds = np.exp(preds)\n",
    "        preds = exp_preds / np.sum(exp_preds)\n",
    "\n",
    "        # Selección probabilística\n",
    "        next_index = np.random.choice(len(caracteres), p=preds)\n",
    "        next_char = idx_to_char[next_index]\n",
    "\n",
    "        resultado += next_char\n",
    "        entrada.append(next_index)\n",
    "\n",
    "    return resultado\n",
    "\n",
    "# Probar con una semilla del corpus\n",
    "semilla = corpus[:seq_length]\n",
    "print(\"Texto generado:\\n\")\n",
    "print(generar_texto(model, semilla, longitud=300, temperatura=0.7))\n"
   ]
  },
  {
   "cell_type": "code",
   "execution_count": null,
   "metadata": {
    "colab": {
     "base_uri": "https://localhost:8080/",
     "height": 498
    },
    "executionInfo": {
     "elapsed": 354,
     "status": "ok",
     "timestamp": 1756085821930,
     "user": {
      "displayName": "Yandri Uchuari",
      "userId": "04950616635261089131"
     },
     "user_tz": 300
    },
    "id": "5QdQIn-QoqYS",
    "outputId": "ed78b545-31f9-4726-9f98-bf6ef93f72f7"
   },
   "outputs": [
    {
     "data": {
      "image/png": "[encoded data removed]",
      "text/plain": [
       "<Figure size 1000x500 with 1 Axes>"
      ]
     },
     "metadata": {},
     "output_type": "display_data"
    }
   ],
   "source": [
    "import matplotlib.pyplot as plt\n",
    "\n",
    "plt.figure(figsize=(10,5))\n",
    "plt.plot(history.history[\"loss\"], label=\"Pérdida entrenamiento\")\n",
    "plt.plot(history.history[\"val_loss\"], label=\"Pérdida validación\")\n",
    "plt.xlabel(\"Épocas\")\n",
    "plt.ylabel(\"Pérdida\")\n",
    "plt.title(\"Evolución del entrenamiento\")\n",
    "plt.legend()\n",
    "plt.show()\n"
   ]
  },
  {
   "cell_type": "code",
   "execution_count": null,
   "metadata": {
    "colab": {
     "base_uri": "https://localhost:8080/",
     "height": 650
    },
    "executionInfo": {
     "elapsed": 6498,
     "status": "ok",
     "timestamp": 1756085828395,
     "user": {
      "displayName": "Yandri Uchuari",
      "userId": "04950616635261089131"
     },
     "user_tz": 300
    },
    "id": "VJflpL1Goqay",
    "outputId": "e961e237-c574-4294-96a3-bf9b49d0b8da"
   },
   "outputs": [
    {
     "name": "stdout",
     "output_type": "stream",
     "text": [
      "It looks like you are running Gradio on a hosted Jupyter notebook, which requires `share=True`. Automatically setting `share=True` (you can turn this off by setting `share=False` in `launch()` explicitly).\n",
      "\n",
      "Colab notebook detected. To show errors in colab notebook, set debug=True in launch()\n",
      "* Running on public URL: https://eb98f9ce58cd9cbedb.gradio.live\n",
      "\n",
      "This share link expires in 1 week. For free permanent hosting and GPU upgrades, run `gradio deploy` from the terminal in the working directory to deploy to Hugging Face Spaces (https://huggingface.co/spaces)\n"
     ]
    },
    {
     "data": {
      "text/html": [
       "<div><iframe src=\"https://eb98f9ce58cd9cbedb.gradio.live\" width=\"100%\" height=\"500\" allow=\"autoplay; camera; microphone; clipboard-read; clipboard-write;\" frameborder=\"0\" allowfullscreen></iframe></div>"
      ],
      "text/plain": [
       "<IPython.core.display.HTML object>"
      ]
     },
     "metadata": {},
     "output_type": "display_data"
    },
    {
     "data": {
      "text/plain": []
     },
     "execution_count": 14,
     "metadata": {},
     "output_type": "execute_result"
    }
   ],
   "source": [
    "import gradio as gr\n",
    "\n",
    "def interfaz_generar_texto(semilla, longitud=300, temperatura=0.8):\n",
    "    if len(semilla) < seq_length:\n",
    "        semilla = (corpus[:seq_length - len(semilla)] + semilla)[-seq_length:]\n",
    "    return generar_texto(model, semilla, longitud=longitud, temperatura=temperatura)\n",
    "\n",
    "demo = gr.Interface(\n",
    "    fn=interfaz_generar_texto,\n",
    "    inputs=[\n",
    "        gr.Textbox(label=\"Semilla inicial\", placeholder=\"Escribe un inicio de texto...\"),\n",
    "        gr.Slider(100, 1000, value=300, step=50, label=\"Longitud de salida\"),\n",
    "        gr.Slider(0.2, 1.5, value=0.8, step=0.1, label=\"Temperatura\")\n",
    "    ],\n",
    "    outputs=\"text\",\n",
    "    title=\"Generador de Texto con LSTM\",\n",
    "    description=\"Modelo entrenado con texto descargado desde internet\"\n",
    ")\n",
    "\n",
    "demo.launch()\n"
   ]
  },
  {
   "cell_type": "markdown",
   "metadata": {},
   "source": [
    "**Conclusión**\n",
    "\n",
    "El desarrollo del Desafío 4 me ha permite comprender de forma práctica el ciclo completo de un sistema de procesamiento de LPN, desde la preparación de los datos, la representación vectorial de los textos y la construcción de un modelo secuencial con embeddings y LSTM, hasta la evaluación y la implementación de una interfaz interactiva con Gradio. \n",
    "\n",
    "\n",
    "El desafio ha demostrado que el modelo logra aprender relaciones entre secuencias de texto y puede generalizar sobre ejemplos no vistos, confirmando la tesis presentada.\n",
    "\n",
    "**Recomendación**\n",
    "\n",
    "Para mejorar los resultados, se recomienda experimentar con embeddings preentrenados (como GloVe o Word2Vec) en lugar de inicializaciones aleatorias, probar arquitecturas más robustas (GRU, BiLSTM o incluso modelos basados en transformers) y realizar un ajuste más cuidadoso de hiperparámetros (batch size, learning rate, dropout). \n",
    "\n",
    "Además, se sugiere incrementar la cantidad y diversidad de datos de entrenamiento y aplicar técnicas de regularización para mejorar la capacidad de generalización."
   ]
  },
  {
   "cell_type": "markdown",
   "metadata": {
    "id": "jS3cmm_llTmP"
   },
   "source": []
  }
 ],
 "metadata": {
  "colab": {
   "authorship_tag": "ABX9TyMOZOv7p7Q9uqzsmb+/lpsO",
   "provenance": []
  },
  "kernelspec": {
   "display_name": "Python 3",
   "name": "python3"
  },
  "language_info": {
   "name": "python"
  }
 },
 "nbformat": 4,
 "nbformat_minor": 0
}
