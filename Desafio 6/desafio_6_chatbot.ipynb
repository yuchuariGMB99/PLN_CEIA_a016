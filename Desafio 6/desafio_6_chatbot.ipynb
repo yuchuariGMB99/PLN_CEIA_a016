{
 "cells": [
  {
   "cell_type": "markdown",
   "metadata": {
    "id": "_OJq2G6ryGtT"
   },
   "source": [
    "Desafio #6\n",
    "\n",
    "Alumno: Yandri Uchuari Gallardo"
   ]
  },
  {
   "cell_type": "markdown",
   "metadata": {},
   "source": [
    "Instalamos las librerías necesarias para ejecutar nuestro código."
   ]
  },
  {
   "cell_type": "code",
   "execution_count": null,
   "metadata": {
    "id": "CdgGCNf840hu"
   },
   "outputs": [],
   "source": [
    "!pip -q install tensorflow gradio\n"
   ]
  },
  {
   "cell_type": "markdown",
   "metadata": {},
   "source": [
    "Este bloque de código configura el entorno inicial para el desarrollo de un chatbot con redes neuronales. Se importan las librerías necesarias para manejo de datos, visualización y modelado con TensorFlow/Keras. Además, se establece una semilla aleatoria para asegurar reproducibilidad de resultados y se crea un directorio temporal donde se almacenarán los archivos y recursos del chatbot durante su ejecución."
   ]
  },
  {
   "cell_type": "code",
   "execution_count": null,
   "metadata": {
    "executionInfo": {
     "elapsed": 8669,
     "status": "ok",
     "timestamp": 1756086154844,
     "user": {
      "displayName": "Yandri Uchuari",
      "userId": "04950616635261089131"
     },
     "user_tz": 300
    },
    "id": "EK-RPiec41g7",
    "outputId": "fac5152f-735a-48ef-ab76-383949e93ce8"
   },
   "outputs": [
    {
     "name": "stderr",
     "output_type": "stream",
     "text": [
      "2025-08-25 08:36:13.967848: I external/local_xla/xla/tsl/cuda/cudart_stub.cc:31] Could not find cuda drivers on your machine, GPU will not be used.\n",
      "2025-08-25 08:36:13.968072: I tensorflow/core/util/port.cc:153] oneDNN custom operations are on. You may see slightly different numerical results due to floating-point round-off errors from different computation orders. To turn them off, set the environment variable `TF_ENABLE_ONEDNN_OPTS=0`.\n",
      "2025-08-25 08:36:14.001341: I tensorflow/core/platform/cpu_feature_guard.cc:210] This TensorFlow binary is optimized to use available CPU instructions in performance-critical operations.\n",
      "To enable the following instructions: AVX2 AVX512F AVX512_VNNI FMA, in other operations, rebuild TensorFlow with the appropriate compiler flags.\n",
      "2025-08-25 08:36:14.777125: I tensorflow/core/util/port.cc:153] oneDNN custom operations are on. You may see slightly different numerical results due to floating-point round-off errors from different computation orders. To turn them off, set the environment variable `TF_ENABLE_ONEDNN_OPTS=0`.\n",
      "2025-08-25 08:36:14.777344: I external/local_xla/xla/tsl/cuda/cudart_stub.cc:31] Could not find cuda drivers on your machine, GPU will not be used.\n"
     ]
    }
   ],
   "source": [
    "import os\n",
    "import io\n",
    "import re\n",
    "import zipfile\n",
    "import random\n",
    "import requests\n",
    "import numpy as np\n",
    "import pandas as pd\n",
    "from pathlib import Path\n",
    "from tqdm import tqdm\n",
    "\n",
    "import matplotlib.pyplot as plt\n",
    "\n",
    "import tensorflow as tf\n",
    "from tensorflow.keras.preprocessing.text import Tokenizer\n",
    "from tensorflow.keras.preprocessing.sequence import pad_sequences\n",
    "from tensorflow.keras.layers import Input, Embedding, GRU, Dense, TimeDistributed\n",
    "from tensorflow.keras.models import Model\n",
    "from tensorflow.keras.optimizers import Adam\n",
    "\n",
    "# Reproducibilidad\n",
    "SEED = 1234\n",
    "random.seed(SEED)\n",
    "np.random.seed(SEED)\n",
    "tf.random.set_seed(SEED)\n",
    "\n",
    "# Carpeta temporal de trabajo\n",
    "WORKDIR = Path(\"./_tmp_chatbot\")\n",
    "WORKDIR.mkdir(parents=True, exist_ok=True)\n"
   ]
  },
  {
   "cell_type": "markdown",
   "metadata": {},
   "source": [
    "Este bloque descarga automáticamente el Cornell Movie Dialogs Corpus desde la web, lo guarda en la carpeta temporal y lo descomprime si aún no está extraído, dejando listo el conjunto de diálogos para su uso en el chatbot."
   ]
  },
  {
   "cell_type": "code",
   "execution_count": null,
   "metadata": {
    "colab": {
     "base_uri": "https://localhost:8080/"
    },
    "executionInfo": {
     "elapsed": 880,
     "status": "ok",
     "timestamp": 1756086155723,
     "user": {
      "displayName": "Yandri Uchuari",
      "userId": "04950616635261089131"
     },
     "user_tz": 300
    },
    "id": "YK_D9HcT41j6",
    "outputId": "f2879ecf-8621-4926-8dde-f38b15566da5"
   },
   "outputs": [
    {
     "name": "stderr",
     "output_type": "stream",
     "text": [
      "Cornell corpus: 100%|██████████| 9.92M/9.92M [00:01<00:00, 6.38MB/s]\n"
     ]
    }
   ],
   "source": [
    "CORNELL_URL = \"https://www.cs.cornell.edu/~cristian/data/cornell_movie_dialogs_corpus.zip\"\n",
    "CORNELL_ZIP = WORKDIR / \"cornell_movie_dialogs_corpus.zip\"\n",
    "CORNELL_DIR = WORKDIR / \"cornell_movie_dialogs_corpus\"\n",
    "\n",
    "def descargar(url, destino: Path, desc=\"descargando\"):\n",
    "    if destino.exists():\n",
    "        return destino\n",
    "    with requests.get(url, stream=True) as r:\n",
    "        r.raise_for_status()\n",
    "        total = int(r.headers.get(\"content-length\", 0))\n",
    "        with open(destino, \"wb\") as f, tqdm(total=total, unit=\"B\", unit_scale=True, desc=desc) as bar:\n",
    "            for chunk in r.iter_content(chunk_size=8192):\n",
    "                if chunk:\n",
    "                    f.write(chunk)\n",
    "                    bar.update(len(chunk))\n",
    "    return destino\n",
    "\n",
    "# Descargar ZIP\n",
    "descargar(CORNELL_URL, CORNELL_ZIP, desc=\"Cornell corpus\")\n",
    "\n",
    "# Extraer si no existe\n",
    "if not CORNELL_DIR.exists():\n",
    "    with zipfile.ZipFile(CORNELL_ZIP, \"r\") as z:\n",
    "        z.extractall(WORKDIR)\n"
   ]
  },
  {
   "cell_type": "markdown",
   "metadata": {},
   "source": [
    "En este bloque se define la ruta del corpus Cornell y verifica que los archivos movie_lines.txt y movie_conversations.txt estén presentes en la carpeta, confirmando que los datos necesarios para el chatbot existen antes de procesarlos."
   ]
  },
  {
   "cell_type": "code",
   "execution_count": null,
   "metadata": {
    "colab": {
     "base_uri": "https://localhost:8080/"
    },
    "executionInfo": {
     "elapsed": 22,
     "status": "ok",
     "timestamp": 1756086985658,
     "user": {
      "displayName": "Yandri Uchuari",
      "userId": "04950616635261089131"
     },
     "user_tz": 300
    },
    "id": "jgnKwx9S8Nvd",
    "outputId": "91130bf8-52f1-413c-c0ac-db336adea26e"
   },
   "outputs": [
    {
     "name": "stdout",
     "output_type": "stream",
     "text": [
      "lines_path: True\n",
      "convs_path: True\n"
     ]
    }
   ],
   "source": [
    "from pathlib import Path\n",
    "\n",
    "CORNELL_DIR = Path(\"./_tmp_chatbot/cornell movie-dialogs corpus\")\n",
    "\n",
    "lines_path = CORNELL_DIR / \"movie_lines.txt\"\n",
    "convs_path = CORNELL_DIR / \"movie_conversations.txt\"\n",
    "\n",
    "print(\"lines_path:\", lines_path.exists())\n",
    "print(\"convs_path:\", convs_path.exists())\n"
   ]
  },
  {
   "cell_type": "markdown",
   "metadata": {},
   "source": [
    "En este bloque se carga el corpus Cornell y se arma pares pregunta→respuesta listos para entrenar el chatbot: cargar_lineas crea un diccionario id→texto desde movie_lines.txt, cargar_conversaciones extrae secuencias de IDs desde movie_conversations.txt (usando ast.literal_eval y un fallback con regex para mayor robustez), luego recorre cada conversación para construir pares adyacentes (entrada/salida), e imprime conteos y un ejemplo de pares."
   ]
  },
  {
   "cell_type": "code",
   "execution_count": null,
   "metadata": {
    "colab": {
     "base_uri": "https://localhost:8080/"
    },
    "executionInfo": {
     "elapsed": 2921,
     "status": "ok",
     "timestamp": 1756086994801,
     "user": {
      "displayName": "Yandri Uchuari",
      "userId": "04950616635261089131"
     },
     "user_tz": 300
    },
    "id": "cP8G-uE741pl",
    "outputId": "5dcd898d-34eb-4731-e5ca-473b29e42c24"
   },
   "outputs": [
    {
     "name": "stdout",
     "output_type": "stream",
     "text": [
      "líneas: 304446 | conversaciones: 83097 | pares: 221282\n",
      "Ejemplo de par:\n",
      "IN: Can we make this quick?  Roxanne Korrine and Andrew Barrett are having an incredibly horrendous public break- up on the quad.  Again. \n",
      "OUT: Well, I thought we'd start with pronunciation, if that's okay with you.\n"
     ]
    }
   ],
   "source": [
    "\n",
    "import ast\n",
    "import re\n",
    "\n",
    "def cargar_lineas(path):\n",
    "    \"\"\"Devuelve dict: id_linea -> texto (desde movie_lines.txt)\"\"\"\n",
    "    mapping = {}\n",
    "    with open(path, \"r\", encoding=\"iso-8859-1\") as f:\n",
    "        for raw in f:\n",
    "            parts = raw.split(\" +++$+++ \")\n",
    "            if len(parts) >= 5:\n",
    "                line_id = parts[0].strip()\n",
    "                text = parts[-1].strip()\n",
    "                if line_id and text:\n",
    "                    mapping[line_id] = text\n",
    "    return mapping\n",
    "\n",
    "def cargar_conversaciones(path):\n",
    "    \"\"\"Devuelve lista de listas de IDs (desde movie_conversations.txt)\"\"\"\n",
    "    convs = []\n",
    "    with open(path, \"r\", encoding=\"iso-8859-1\") as f:\n",
    "        for raw in f:\n",
    "            parts = raw.strip().split(\" +++$+++ \")\n",
    "            if len(parts) != 4:\n",
    "                continue\n",
    "            ids_str = parts[-1].strip()\n",
    "            # Formato esperado: \"['L194', 'L195', ...]\"\n",
    "            if ids_str.startswith(\"[\") and ids_str.endswith(\"]\"):\n",
    "                try:\n",
    "                    ids = ast.literal_eval(ids_str)\n",
    "                    if isinstance(ids, list) and all(isinstance(x, str) for x in ids):\n",
    "                        convs.append(ids)\n",
    "                        continue\n",
    "                except Exception:\n",
    "                    pass\n",
    "            # Fallback: extraer IDs por regex si viniera mal formateado\n",
    "            ids = re.findall(r\"L\\d+\", ids_str)\n",
    "            if ids:\n",
    "                convs.append(ids)\n",
    "    return convs\n",
    "\n",
    "# Cargar estructuras\n",
    "id2text = cargar_lineas(lines_path)\n",
    "convs = cargar_conversaciones(convs_path)\n",
    "\n",
    "# Construir pares adyacentes pregunta->respuesta\n",
    "pares = []\n",
    "for ids in convs:\n",
    "    for i in range(len(ids) - 1):\n",
    "        a = id2text.get(ids[i], \"\").strip()\n",
    "        b = id2text.get(ids[i+1], \"\").strip()\n",
    "        if a and b:\n",
    "            pares.append((a, b))\n",
    "\n",
    "print(f\"líneas: {len(id2text)} | conversaciones: {len(convs)} | pares: {len(pares)}\")\n",
    "# Vista previa segura\n",
    "if pares:\n",
    "    print(\"Ejemplo de par:\\nIN:\", pares[0][0], \"\\nOUT:\", pares[0][1])\n",
    "else:\n",
    "    print(\"No se generaron pares\")\n",
    "\n"
   ]
  },
  {
   "cell_type": "markdown",
   "metadata": {},
   "source": [
    "En este bloque se normaliza y limpia los textos de los pares pregunta→respuesta: pasa todo a minúsculas, expande contracciones ( i'm → i am), elimina caracteres no deseados conservando letras, números y puntuación básica, y colapsa espacios. Luego aplica esta función a todos los pares, construye pares_limpios con los que quedaron válidos y muestra una vista previa de los primeros tres para verificar que la limpieza sea correcta."
   ]
  },
  {
   "cell_type": "code",
   "execution_count": null,
   "metadata": {
    "colab": {
     "base_uri": "https://localhost:8080/"
    },
    "executionInfo": {
     "elapsed": 10519,
     "status": "ok",
     "timestamp": 1756087011521,
     "user": {
      "displayName": "Yandri Uchuari",
      "userId": "04950616635261089131"
     },
     "user_tz": 300
    },
    "id": "lk2Ove0q6tgb",
    "outputId": "e9b7dfcb-4a86-4244-c8d6-b8ce4f972ee0"
   },
   "outputs": [
    {
     "name": "stdout",
     "output_type": "stream",
     "text": [
      "pares_limpios: 221282\n",
      "IN[0]: can we make this quick? roxanne korrine and andrew barrett are having an incredibly horrendous public break up on the quad. again.\n",
      "OUT[0]: well, i thought we would start with pronunciation, if that is okay with you.\n",
      "---\n",
      "IN[1]: well, i thought we would start with pronunciation, if that is okay with you.\n",
      "OUT[1]: not the hacking and gagging and spitting part. please.\n",
      "---\n",
      "IN[2]: not the hacking and gagging and spitting part. please.\n",
      "OUT[2]: okay... then how 'bout we try out some french cuisine. saturday? night?\n",
      "---\n"
     ]
    }
   ],
   "source": [
    "#limpieza simple y vista previa segura ---\n",
    "import re\n",
    "\n",
    "def limpiar(s: str) -> str:\n",
    "    s = s.lower()\n",
    "    s = re.sub(r\"\\bi'm\\b\", \"i am\", s)\n",
    "    s = re.sub(r\"\\bhe's\\b\", \"he is\", s)\n",
    "    s = re.sub(r\"\\bshe's\\b\", \"she is\", s)\n",
    "    s = re.sub(r\"\\bit's\\b\", \"it is\", s)\n",
    "    s = re.sub(r\"\\bthat's\\b\", \"that is\", s)\n",
    "    s = re.sub(r\"\\bwhat's\\b\", \"what is\", s)\n",
    "    s = re.sub(r\"\\bwhere's\\b\", \"where is\", s)\n",
    "    s = re.sub(r\"\\'ll\\b\", \" will\", s)\n",
    "    s = re.sub(r\"\\'ve\\b\", \" have\", s)\n",
    "    s = re.sub(r\"\\'re\\b\", \" are\", s)\n",
    "    s = re.sub(r\"\\'d\\b\", \" would\", s)\n",
    "    # Mantener letras/números y punt. básica\n",
    "    s = re.sub(r\"[^a-z0-9\\s\\.\\,\\!\\?\\']\", \" \", s)\n",
    "    s = re.sub(r\"\\s+\", \" \", s).strip()\n",
    "    return s\n",
    "\n",
    "pares_limpios = []\n",
    "if pares:\n",
    "    for a, b in pares:\n",
    "        la, lb = limpiar(a), limpiar(b)\n",
    "        if la and lb:\n",
    "            pares_limpios.append((la, lb))\n",
    "\n",
    "print(f\"pares_limpios: {len(pares_limpios)}\")\n",
    "\n",
    "# Vista previa segura\n",
    "if pares_limpios:\n",
    "    for i, (x, y) in enumerate(pares_limpios[:3]):\n",
    "        print(f\"IN[{i}]:\", x)\n",
    "        print(f\"OUT[{i}]:\", y)\n",
    "        print(\"---\")\n",
    "else:\n",
    "    print(\"Sin pares válidos tras limpieza\")\n"
   ]
  },
  {
   "cell_type": "code",
   "execution_count": null,
   "metadata": {
    "colab": {
     "base_uri": "https://localhost:8080/"
    },
    "executionInfo": {
     "elapsed": 612,
     "status": "ok",
     "timestamp": 1756087037313,
     "user": {
      "displayName": "Yandri Uchuari",
      "userId": "04950616635261089131"
     },
     "user_tz": 300
    },
    "id": "ojorM7Np70gr",
    "outputId": "eadce4ee-c427-4cdb-98b6-6568da021563"
   },
   "outputs": [
    {
     "data": {
      "text/plain": [
       "139713"
      ]
     },
     "execution_count": 6,
     "metadata": {},
     "output_type": "execute_result"
    }
   ],
   "source": [
    "SOS = \"<sos>\"\n",
    "EOS = \"<eos>\"\n",
    "\n",
    "max_len_in  = 15   # Ajustar a voluntad\n",
    "max_len_out = 15\n",
    "\n",
    "pares_filtrados = []\n",
    "for a,b in pares_limpios:\n",
    "    if 1 <= len(a.split()) <= max_len_in and 1 <= len(b.split()) <= max_len_out:\n",
    "        pares_filtrados.append((a, f\"{SOS} {b} {EOS}\"))\n",
    "\n",
    "len(pares_filtrados)\n"
   ]
  },
  {
   "cell_type": "code",
   "execution_count": null,
   "metadata": {
    "colab": {
     "base_uri": "https://localhost:8080/"
    },
    "executionInfo": {
     "elapsed": 3933,
     "status": "ok",
     "timestamp": 1756087048701,
     "user": {
      "displayName": "Yandri Uchuari",
      "userId": "04950616635261089131"
     },
     "user_tz": 300
    },
    "id": "toVsl1zp8apH",
    "outputId": "c0c63476-f282-4d7b-eccb-7786b28c88ea"
   },
   "outputs": [
    {
     "data": {
      "text/plain": [
       "34321"
      ]
     },
     "execution_count": 7,
     "metadata": {},
     "output_type": "execute_result"
    }
   ],
   "source": [
    "entradas = [a for a,_ in pares_filtrados]\n",
    "salidas  = [b for _,b in pares_filtrados]\n",
    "\n",
    "tokenizador = Tokenizer(oov_token=\"<unk>\")\n",
    "tokenizador.fit_on_texts(entradas + salidas)\n",
    "\n",
    "vocab_size = len(tokenizador.word_index) + 1\n",
    "vocab_size\n"
   ]
  },
  {
   "cell_type": "markdown",
   "metadata": {},
   "source": [
    "En este bloque se transforma los textos ya limpiados en secuencias numéricas listas para el modelo: convierte entradas y salidas en listas de índices usando el tokenizador, diferenciando entre entradas del encoder, entradas del decoder (sin <eos>) y salidas del decoder (sin <sos>). Luego aplica pad_sequences para igualar la longitud de todas las secuencias al máximo definido, generando tensores listos para el entrenamiento y mostrando sus dimensiones finales."
   ]
  },
  {
   "cell_type": "code",
   "execution_count": null,
   "metadata": {
    "colab": {
     "base_uri": "https://localhost:8080/"
    },
    "executionInfo": {
     "elapsed": 6109,
     "status": "ok",
     "timestamp": 1756087062851,
     "user": {
      "displayName": "Yandri Uchuari",
      "userId": "04950616635261089131"
     },
     "user_tz": 300
    },
    "id": "cCf9Wp2A8coC",
    "outputId": "7bd19f09-4f0b-4ef6-9910-7b625127c269"
   },
   "outputs": [
    {
     "data": {
      "text/plain": [
       "((139713, 15), (139713, 15), (139713, 15))"
      ]
     },
     "execution_count": 8,
     "metadata": {},
     "output_type": "execute_result"
    }
   ],
   "source": [
    "X_enc = tokenizador.texts_to_sequences(entradas)                # encoder inputs\n",
    "X_dec_in = tokenizador.texts_to_sequences([s.replace(EOS, \"\").strip() for s in salidas])  # decoder inputs (sin <eos>)\n",
    "y_dec = tokenizador.texts_to_sequences([s.replace(SOS, \"\").strip() for s in salidas])     # decoder targets (sin <sos>)\n",
    "\n",
    "X_enc = pad_sequences(X_enc, maxlen=max_len_in, padding=\"post\")\n",
    "X_dec_in = pad_sequences(X_dec_in, maxlen=max_len_out, padding=\"post\")\n",
    "y_dec = pad_sequences(y_dec, maxlen=max_len_out, padding=\"post\")\n",
    "\n",
    "X_enc.shape, X_dec_in.shape, y_dec.shape\n"
   ]
  },
  {
   "cell_type": "code",
   "execution_count": null,
   "metadata": {
    "colab": {
     "base_uri": "https://localhost:8080/",
     "height": 110
    },
    "executionInfo": {
     "elapsed": 48,
     "status": "error",
     "timestamp": 1756087644446,
     "user": {
      "displayName": "Yandri Uchuari",
      "userId": "04950616635261089131"
     },
     "user_tz": 300
    },
    "id": "et8hgWAt8fiy",
    "outputId": "5d6865db-c710-4e85-ca28-ec80d6a047a3"
   },
   "outputs": [
    {
     "name": "stderr",
     "output_type": "stream",
     "text": [
      "GloVe 6B: 100%|██████████| 862M/862M [09:16<00:00, 1.55MB/s]  \n"
     ]
    }
   ],
   "source": [
    "GLOVE_URL = \"https://nlp.stanford.edu/data/glove.6B.zip\"\n",
    "GLOVE_ZIP = WORKDIR / \"glove.6B.zip\"\n",
    "GLOVE_DIR = WORKDIR / \"glove.6B\"\n",
    "EMB_DIM = 100  # 50/100/200/300 disponibles en glove.6B\n",
    "\n",
    "# Descargar y extraer\n",
    "descargar(GLOVE_URL, GLOVE_ZIP, desc=\"GloVe 6B\")\n",
    "if not GLOVE_DIR.exists():\n",
    "    with zipfile.ZipFile(GLOVE_ZIP, \"r\") as z:\n",
    "        z.extractall(WORKDIR)\n"
   ]
  },
  {
   "cell_type": "markdown",
   "metadata": {},
   "source": [
    "En este bloque se integra embeddings preentrenados de GloVe al modelo: primero carga el archivo glove.6B.100d.txt y construye un diccionario embeddings_index que mapea cada palabra a su vector de 100 dimensiones. Luego crea la embedding_matrix del tamaño del vocabulario del tokenizador y asigna a cada palabra su vector correspondiente cuando existe en GloVe."
   ]
  },
  {
   "cell_type": "code",
   "execution_count": null,
   "metadata": {
    "colab": {
     "base_uri": "https://localhost:8080/"
    },
    "executionInfo": {
     "elapsed": 15379,
     "status": "ok",
     "timestamp": 1756087674930,
     "user": {
      "displayName": "Yandri Uchuari",
      "userId": "04950616635261089131"
     },
     "user_tz": 300
    },
    "id": "8oNTl_lO-yKb",
    "outputId": "4df19e88-bcdc-4fba-966c-fe00e1535a2e"
   },
   "outputs": [
    {
     "data": {
      "text/plain": [
       "(np.float64(0.8075813641793654), (34321, 100))"
      ]
     },
     "execution_count": 10,
     "metadata": {},
     "output_type": "execute_result"
    }
   ],
   "source": [
    "# Cargar el archivo glove.6B.100d.txt\n",
    "glove_txt = \"/home/ose/LPN_CEIA_a1906/Desafio 6/_tmp_chatbot/glove.6B.100d.txt\"\n",
    "embeddings_index = {}\n",
    "with open(glove_txt, \"r\", encoding=\"utf-8\") as f:\n",
    "    for line in f:\n",
    "        values = line.rstrip().split(\" \")\n",
    "        word = values[0]\n",
    "        coefs = np.asarray(values[1:], dtype=\"float32\")\n",
    "        embeddings_index[word] = coefs\n",
    "\n",
    "# Crear embedding matrix\n",
    "embedding_matrix = np.zeros((vocab_size, EMB_DIM), dtype=\"float32\")\n",
    "for word, idx in tokenizador.word_index.items():\n",
    "    vec = embeddings_index.get(word)\n",
    "    if vec is not None:\n",
    "        embedding_matrix[idx] = vec\n",
    "\n",
    "np.mean(embedding_matrix != 0), embedding_matrix.shape"
   ]
  },
  {
   "cell_type": "code",
   "execution_count": null,
   "metadata": {
    "colab": {
     "base_uri": "https://localhost:8080/",
     "height": 501
    },
    "executionInfo": {
     "elapsed": 820,
     "status": "ok",
     "timestamp": 1756087688329,
     "user": {
      "displayName": "Yandri Uchuari",
      "userId": "04950616635261089131"
     },
     "user_tz": 300
    },
    "id": "85uVGSL48h35",
    "outputId": "9761e66d-f687-445d-c0e6-e8baba275b17"
   },
   "outputs": [
    {
     "name": "stderr",
     "output_type": "stream",
     "text": [
      "/home/ose/LPN_CEIA_a1906/yandri/lib/python3.12/site-packages/keras/src/layers/core/embedding.py:97: UserWarning: Argument `input_length` is deprecated. Just remove it.\n",
      "  warnings.warn(\n",
      "WARNING: All log messages before absl::InitializeLog() is called are written to STDERR\n",
      "E0000 00:00:1756129648.150004 2451309 cuda_executor.cc:1309] INTERNAL: CUDA Runtime error: Failed call to cudaGetRuntimeVersion: Error loading CUDA libraries. GPU will not be used.: Error loading CUDA libraries. GPU will not be used.\n",
      "W0000 00:00:1756129648.153545 2451309 gpu_device.cc:2342] Cannot dlopen some GPU libraries. Please make sure the missing libraries mentioned above are installed properly if you would like to use GPU. Follow the guide at https://www.tensorflow.org/install/gpu for how to download and setup the required libraries for your platform.\n",
      "Skipping registering GPU devices...\n"
     ]
    },
    {
     "data": {
      "text/html": [
       "<pre style=\"white-space:pre;overflow-x:auto;line-height:normal;font-family:Menlo,'DejaVu Sans Mono',consolas,'Courier New',monospace\"><span style=\"font-weight: bold\">Model: \"functional\"</span>\n",
       "</pre>\n"
      ],
      "text/plain": [
       "\u001b[1mModel: \"functional\"\u001b[0m\n"
      ]
     },
     "metadata": {},
     "output_type": "display_data"
    },
    {
     "data": {
      "text/html": [
       "<pre style=\"white-space:pre;overflow-x:auto;line-height:normal;font-family:Menlo,'DejaVu Sans Mono',consolas,'Courier New',monospace\">┏━━━━━━━━━━━━━━━━━━━━━┳━━━━━━━━━━━━━━━━━━━┳━━━━━━━━━━━━┳━━━━━━━━━━━━━━━━━━━┓\n",
       "┃<span style=\"font-weight: bold\"> Layer (type)        </span>┃<span style=\"font-weight: bold\"> Output Shape      </span>┃<span style=\"font-weight: bold\">    Param # </span>┃<span style=\"font-weight: bold\"> Connected to      </span>┃\n",
       "┡━━━━━━━━━━━━━━━━━━━━━╇━━━━━━━━━━━━━━━━━━━╇━━━━━━━━━━━━╇━━━━━━━━━━━━━━━━━━━┩\n",
       "│ encoder_inputs      │ (<span style=\"color: #00d7ff; text-decoration-color: #00d7ff\">None</span>, <span style=\"color: #00af00; text-decoration-color: #00af00\">15</span>)        │          <span style=\"color: #00af00; text-decoration-color: #00af00\">0</span> │ -                 │\n",
       "│ (<span style=\"color: #0087ff; text-decoration-color: #0087ff\">InputLayer</span>)        │                   │            │                   │\n",
       "├─────────────────────┼───────────────────┼────────────┼───────────────────┤\n",
       "│ decoder_inputs      │ (<span style=\"color: #00d7ff; text-decoration-color: #00d7ff\">None</span>, <span style=\"color: #00af00; text-decoration-color: #00af00\">15</span>)        │          <span style=\"color: #00af00; text-decoration-color: #00af00\">0</span> │ -                 │\n",
       "│ (<span style=\"color: #0087ff; text-decoration-color: #0087ff\">InputLayer</span>)        │                   │            │                   │\n",
       "├─────────────────────┼───────────────────┼────────────┼───────────────────┤\n",
       "│ emb_encoder         │ (<span style=\"color: #00d7ff; text-decoration-color: #00d7ff\">None</span>, <span style=\"color: #00af00; text-decoration-color: #00af00\">15</span>, <span style=\"color: #00af00; text-decoration-color: #00af00\">100</span>)   │  <span style=\"color: #00af00; text-decoration-color: #00af00\">3,432,100</span> │ encoder_inputs[<span style=\"color: #00af00; text-decoration-color: #00af00\">0</span>… │\n",
       "│ (<span style=\"color: #0087ff; text-decoration-color: #0087ff\">Embedding</span>)         │                   │            │                   │\n",
       "├─────────────────────┼───────────────────┼────────────┼───────────────────┤\n",
       "│ emb_decoder         │ (<span style=\"color: #00d7ff; text-decoration-color: #00d7ff\">None</span>, <span style=\"color: #00af00; text-decoration-color: #00af00\">15</span>, <span style=\"color: #00af00; text-decoration-color: #00af00\">100</span>)   │  <span style=\"color: #00af00; text-decoration-color: #00af00\">3,432,100</span> │ decoder_inputs[<span style=\"color: #00af00; text-decoration-color: #00af00\">0</span>… │\n",
       "│ (<span style=\"color: #0087ff; text-decoration-color: #0087ff\">Embedding</span>)         │                   │            │                   │\n",
       "├─────────────────────┼───────────────────┼────────────┼───────────────────┤\n",
       "│ gru_encoder (<span style=\"color: #0087ff; text-decoration-color: #0087ff\">GRU</span>)   │ [(<span style=\"color: #00d7ff; text-decoration-color: #00d7ff\">None</span>, <span style=\"color: #00af00; text-decoration-color: #00af00\">256</span>),     │    <span style=\"color: #00af00; text-decoration-color: #00af00\">274,944</span> │ emb_encoder[<span style=\"color: #00af00; text-decoration-color: #00af00\">0</span>][<span style=\"color: #00af00; text-decoration-color: #00af00\">0</span>] │\n",
       "│                     │ (<span style=\"color: #00d7ff; text-decoration-color: #00d7ff\">None</span>, <span style=\"color: #00af00; text-decoration-color: #00af00\">256</span>)]      │            │                   │\n",
       "├─────────────────────┼───────────────────┼────────────┼───────────────────┤\n",
       "│ gru_decoder (<span style=\"color: #0087ff; text-decoration-color: #0087ff\">GRU</span>)   │ [(<span style=\"color: #00d7ff; text-decoration-color: #00d7ff\">None</span>, <span style=\"color: #00af00; text-decoration-color: #00af00\">15</span>, <span style=\"color: #00af00; text-decoration-color: #00af00\">256</span>), │    <span style=\"color: #00af00; text-decoration-color: #00af00\">274,944</span> │ emb_decoder[<span style=\"color: #00af00; text-decoration-color: #00af00\">0</span>][<span style=\"color: #00af00; text-decoration-color: #00af00\">0</span>… │\n",
       "│                     │ (<span style=\"color: #00d7ff; text-decoration-color: #00d7ff\">None</span>, <span style=\"color: #00af00; text-decoration-color: #00af00\">256</span>)]      │            │ gru_encoder[<span style=\"color: #00af00; text-decoration-color: #00af00\">0</span>][<span style=\"color: #00af00; text-decoration-color: #00af00\">1</span>] │\n",
       "├─────────────────────┼───────────────────┼────────────┼───────────────────┤\n",
       "│ proy                │ (<span style=\"color: #00d7ff; text-decoration-color: #00d7ff\">None</span>, <span style=\"color: #00af00; text-decoration-color: #00af00\">15</span>, <span style=\"color: #00af00; text-decoration-color: #00af00\">34321</span>) │  <span style=\"color: #00af00; text-decoration-color: #00af00\">8,820,497</span> │ gru_decoder[<span style=\"color: #00af00; text-decoration-color: #00af00\">0</span>][<span style=\"color: #00af00; text-decoration-color: #00af00\">0</span>] │\n",
       "│ (<span style=\"color: #0087ff; text-decoration-color: #0087ff\">TimeDistributed</span>)   │                   │            │                   │\n",
       "└─────────────────────┴───────────────────┴────────────┴───────────────────┘\n",
       "</pre>\n"
      ],
      "text/plain": [
       "┏━━━━━━━━━━━━━━━━━━━━━┳━━━━━━━━━━━━━━━━━━━┳━━━━━━━━━━━━┳━━━━━━━━━━━━━━━━━━━┓\n",
       "┃\u001b[1m \u001b[0m\u001b[1mLayer (type)       \u001b[0m\u001b[1m \u001b[0m┃\u001b[1m \u001b[0m\u001b[1mOutput Shape     \u001b[0m\u001b[1m \u001b[0m┃\u001b[1m \u001b[0m\u001b[1m   Param #\u001b[0m\u001b[1m \u001b[0m┃\u001b[1m \u001b[0m\u001b[1mConnected to     \u001b[0m\u001b[1m \u001b[0m┃\n",
       "┡━━━━━━━━━━━━━━━━━━━━━╇━━━━━━━━━━━━━━━━━━━╇━━━━━━━━━━━━╇━━━━━━━━━━━━━━━━━━━┩\n",
       "│ encoder_inputs      │ (\u001b[38;5;45mNone\u001b[0m, \u001b[38;5;34m15\u001b[0m)        │          \u001b[38;5;34m0\u001b[0m │ -                 │\n",
       "│ (\u001b[38;5;33mInputLayer\u001b[0m)        │                   │            │                   │\n",
       "├─────────────────────┼───────────────────┼────────────┼───────────────────┤\n",
       "│ decoder_inputs      │ (\u001b[38;5;45mNone\u001b[0m, \u001b[38;5;34m15\u001b[0m)        │          \u001b[38;5;34m0\u001b[0m │ -                 │\n",
       "│ (\u001b[38;5;33mInputLayer\u001b[0m)        │                   │            │                   │\n",
       "├─────────────────────┼───────────────────┼────────────┼───────────────────┤\n",
       "│ emb_encoder         │ (\u001b[38;5;45mNone\u001b[0m, \u001b[38;5;34m15\u001b[0m, \u001b[38;5;34m100\u001b[0m)   │  \u001b[38;5;34m3,432,100\u001b[0m │ encoder_inputs[\u001b[38;5;34m0\u001b[0m… │\n",
       "│ (\u001b[38;5;33mEmbedding\u001b[0m)         │                   │            │                   │\n",
       "├─────────────────────┼───────────────────┼────────────┼───────────────────┤\n",
       "│ emb_decoder         │ (\u001b[38;5;45mNone\u001b[0m, \u001b[38;5;34m15\u001b[0m, \u001b[38;5;34m100\u001b[0m)   │  \u001b[38;5;34m3,432,100\u001b[0m │ decoder_inputs[\u001b[38;5;34m0\u001b[0m… │\n",
       "│ (\u001b[38;5;33mEmbedding\u001b[0m)         │                   │            │                   │\n",
       "├─────────────────────┼───────────────────┼────────────┼───────────────────┤\n",
       "│ gru_encoder (\u001b[38;5;33mGRU\u001b[0m)   │ [(\u001b[38;5;45mNone\u001b[0m, \u001b[38;5;34m256\u001b[0m),     │    \u001b[38;5;34m274,944\u001b[0m │ emb_encoder[\u001b[38;5;34m0\u001b[0m][\u001b[38;5;34m0\u001b[0m] │\n",
       "│                     │ (\u001b[38;5;45mNone\u001b[0m, \u001b[38;5;34m256\u001b[0m)]      │            │                   │\n",
       "├─────────────────────┼───────────────────┼────────────┼───────────────────┤\n",
       "│ gru_decoder (\u001b[38;5;33mGRU\u001b[0m)   │ [(\u001b[38;5;45mNone\u001b[0m, \u001b[38;5;34m15\u001b[0m, \u001b[38;5;34m256\u001b[0m), │    \u001b[38;5;34m274,944\u001b[0m │ emb_decoder[\u001b[38;5;34m0\u001b[0m][\u001b[38;5;34m0\u001b[0m… │\n",
       "│                     │ (\u001b[38;5;45mNone\u001b[0m, \u001b[38;5;34m256\u001b[0m)]      │            │ gru_encoder[\u001b[38;5;34m0\u001b[0m][\u001b[38;5;34m1\u001b[0m] │\n",
       "├─────────────────────┼───────────────────┼────────────┼───────────────────┤\n",
       "│ proy                │ (\u001b[38;5;45mNone\u001b[0m, \u001b[38;5;34m15\u001b[0m, \u001b[38;5;34m34321\u001b[0m) │  \u001b[38;5;34m8,820,497\u001b[0m │ gru_decoder[\u001b[38;5;34m0\u001b[0m][\u001b[38;5;34m0\u001b[0m] │\n",
       "│ (\u001b[38;5;33mTimeDistributed\u001b[0m)   │                   │            │                   │\n",
       "└─────────────────────┴───────────────────┴────────────┴───────────────────┘\n"
      ]
     },
     "metadata": {},
     "output_type": "display_data"
    },
    {
     "data": {
      "text/html": [
       "<pre style=\"white-space:pre;overflow-x:auto;line-height:normal;font-family:Menlo,'DejaVu Sans Mono',consolas,'Courier New',monospace\"><span style=\"font-weight: bold\"> Total params: </span><span style=\"color: #00af00; text-decoration-color: #00af00\">16,234,585</span> (61.93 MB)\n",
       "</pre>\n"
      ],
      "text/plain": [
       "\u001b[1m Total params: \u001b[0m\u001b[38;5;34m16,234,585\u001b[0m (61.93 MB)\n"
      ]
     },
     "metadata": {},
     "output_type": "display_data"
    },
    {
     "data": {
      "text/html": [
       "<pre style=\"white-space:pre;overflow-x:auto;line-height:normal;font-family:Menlo,'DejaVu Sans Mono',consolas,'Courier New',monospace\"><span style=\"font-weight: bold\"> Trainable params: </span><span style=\"color: #00af00; text-decoration-color: #00af00\">9,370,385</span> (35.75 MB)\n",
       "</pre>\n"
      ],
      "text/plain": [
       "\u001b[1m Trainable params: \u001b[0m\u001b[38;5;34m9,370,385\u001b[0m (35.75 MB)\n"
      ]
     },
     "metadata": {},
     "output_type": "display_data"
    },
    {
     "data": {
      "text/html": [
       "<pre style=\"white-space:pre;overflow-x:auto;line-height:normal;font-family:Menlo,'DejaVu Sans Mono',consolas,'Courier New',monospace\"><span style=\"font-weight: bold\"> Non-trainable params: </span><span style=\"color: #00af00; text-decoration-color: #00af00\">6,864,200</span> (26.18 MB)\n",
       "</pre>\n"
      ],
      "text/plain": [
       "\u001b[1m Non-trainable params: \u001b[0m\u001b[38;5;34m6,864,200\u001b[0m (26.18 MB)\n"
      ]
     },
     "metadata": {},
     "output_type": "display_data"
    }
   ],
   "source": [
    "# Encoder\n",
    "encoder_inputs = Input(shape=(max_len_in,), name=\"encoder_inputs\")\n",
    "enc_emb = Embedding(\n",
    "    input_dim=vocab_size,\n",
    "    output_dim=EMB_DIM,\n",
    "    weights=[embedding_matrix],\n",
    "    input_length=max_len_in,\n",
    "    trainable=False,\n",
    "    name=\"emb_encoder\"\n",
    ")(encoder_inputs)\n",
    "encoder_gru = GRU(256, return_state=True, name=\"gru_encoder\")\n",
    "_, enc_state = encoder_gru(enc_emb)\n",
    "\n",
    "# Decoder\n",
    "decoder_inputs = Input(shape=(max_len_out,), name=\"decoder_inputs\")\n",
    "dec_emb = Embedding(\n",
    "    input_dim=vocab_size,\n",
    "    output_dim=EMB_DIM,\n",
    "    weights=[embedding_matrix],\n",
    "    input_length=max_len_out,\n",
    "    trainable=False,\n",
    "    name=\"emb_decoder\"\n",
    ")(decoder_inputs)\n",
    "decoder_gru = GRU(256, return_sequences=True, return_state=True, name=\"gru_decoder\")\n",
    "dec_outputs, _ = decoder_gru(dec_emb, initial_state=enc_state)\n",
    "dec_dense = TimeDistributed(Dense(vocab_size, activation=\"softmax\"), name=\"proy\")\n",
    "dec_probs = dec_dense(dec_outputs)\n",
    "\n",
    "modelo_entrenamiento = Model([encoder_inputs, decoder_inputs], dec_probs)\n",
    "modelo_entrenamiento.compile(\n",
    "    loss=\"sparse_categorical_crossentropy\",\n",
    "    optimizer=Adam(learning_rate=1e-3),\n",
    "    metrics=[]\n",
    ")\n",
    "modelo_entrenamiento.summary()\n"
   ]
  },
  {
   "cell_type": "markdown",
   "metadata": {},
   "source": [
    "En este bloque se entrena al modelo"
   ]
  },
  {
   "cell_type": "code",
   "execution_count": null,
   "metadata": {
    "colab": {
     "background_save": true,
     "base_uri": "https://localhost:8080/"
    },
    "id": "YXkTK4w88lG6",
    "outputId": "ce9240fd-554b-4a0e-aa90-24e09633265b"
   },
   "outputs": [
    {
     "name": "stdout",
     "output_type": "stream",
     "text": [
      "Epoch 1/20\n",
      "\u001b[1m983/983\u001b[0m \u001b[32m━━━━━━━━━━━━━━━━━━━━\u001b[0m\u001b[37m\u001b[0m \u001b[1m944s\u001b[0m 958ms/step - loss: 2.8600 - val_loss: 2.5596\n",
      "Epoch 2/20\n",
      "\u001b[1m983/983\u001b[0m \u001b[32m━━━━━━━━━━━━━━━━━━━━\u001b[0m\u001b[37m\u001b[0m \u001b[1m932s\u001b[0m 949ms/step - loss: 2.4033 - val_loss: 2.4275\n",
      "Epoch 3/20\n",
      "\u001b[1m983/983\u001b[0m \u001b[32m━━━━━━━━━━━━━━━━━━━━\u001b[0m\u001b[37m\u001b[0m \u001b[1m937s\u001b[0m 954ms/step - loss: 2.2789 - val_loss: 2.3839\n",
      "Epoch 4/20\n",
      "\u001b[1m983/983\u001b[0m \u001b[32m━━━━━━━━━━━━━━━━━━━━\u001b[0m\u001b[37m\u001b[0m \u001b[1m950s\u001b[0m 967ms/step - loss: 2.1921 - val_loss: 2.3678\n",
      "Epoch 5/20\n",
      "\u001b[1m983/983\u001b[0m \u001b[32m━━━━━━━━━━━━━━━━━━━━\u001b[0m\u001b[37m\u001b[0m \u001b[1m951s\u001b[0m 968ms/step - loss: 2.1204 - val_loss: 2.3627\n",
      "Epoch 6/20\n",
      "\u001b[1m983/983\u001b[0m \u001b[32m━━━━━━━━━━━━━━━━━━━━\u001b[0m\u001b[37m\u001b[0m \u001b[1m952s\u001b[0m 968ms/step - loss: 2.0547 - val_loss: 2.3634\n",
      "Epoch 7/20\n",
      "\u001b[1m983/983\u001b[0m \u001b[32m━━━━━━━━━━━━━━━━━━━━\u001b[0m\u001b[37m\u001b[0m \u001b[1m951s\u001b[0m 968ms/step - loss: 1.9975 - val_loss: 2.3665\n",
      "Epoch 8/20\n",
      "\u001b[1m983/983\u001b[0m \u001b[32m━━━━━━━━━━━━━━━━━━━━\u001b[0m\u001b[37m\u001b[0m \u001b[1m952s\u001b[0m 969ms/step - loss: 1.9477 - val_loss: 2.3708\n",
      "Epoch 9/20\n",
      "\u001b[1m983/983\u001b[0m \u001b[32m━━━━━━━━━━━━━━━━━━━━\u001b[0m\u001b[37m\u001b[0m \u001b[1m949s\u001b[0m 965ms/step - loss: 1.9058 - val_loss: 2.3770\n",
      "Epoch 10/20\n",
      "\u001b[1m983/983\u001b[0m \u001b[32m━━━━━━━━━━━━━━━━━━━━\u001b[0m\u001b[37m\u001b[0m \u001b[1m951s\u001b[0m 967ms/step - loss: 1.8705 - val_loss: 2.3825\n",
      "Epoch 11/20\n",
      "\u001b[1m983/983\u001b[0m \u001b[32m━━━━━━━━━━━━━━━━━━━━\u001b[0m\u001b[37m\u001b[0m \u001b[1m952s\u001b[0m 968ms/step - loss: 1.8399 - val_loss: 2.3890\n",
      "Epoch 12/20\n",
      "\u001b[1m983/983\u001b[0m \u001b[32m━━━━━━━━━━━━━━━━━━━━\u001b[0m\u001b[37m\u001b[0m \u001b[1m952s\u001b[0m 968ms/step - loss: 1.8131 - val_loss: 2.3974\n",
      "Epoch 13/20\n",
      "\u001b[1m983/983\u001b[0m \u001b[32m━━━━━━━━━━━━━━━━━━━━\u001b[0m\u001b[37m\u001b[0m \u001b[1m953s\u001b[0m 969ms/step - loss: 1.7894 - val_loss: 2.4052\n",
      "Epoch 14/20\n",
      "\u001b[1m983/983\u001b[0m \u001b[32m━━━━━━━━━━━━━━━━━━━━\u001b[0m\u001b[37m\u001b[0m \u001b[1m952s\u001b[0m 969ms/step - loss: 1.7686 - val_loss: 2.4133\n",
      "Epoch 15/20\n",
      "\u001b[1m983/983\u001b[0m \u001b[32m━━━━━━━━━━━━━━━━━━━━\u001b[0m\u001b[37m\u001b[0m \u001b[1m946s\u001b[0m 962ms/step - loss: 1.7499 - val_loss: 2.4224\n",
      "Epoch 16/20\n",
      "\u001b[1m983/983\u001b[0m \u001b[32m━━━━━━━━━━━━━━━━━━━━\u001b[0m\u001b[37m\u001b[0m \u001b[1m946s\u001b[0m 962ms/step - loss: 1.7333 - val_loss: 2.4319\n",
      "Epoch 17/20\n",
      "\u001b[1m983/983\u001b[0m \u001b[32m━━━━━━━━━━━━━━━━━━━━\u001b[0m\u001b[37m\u001b[0m \u001b[1m932s\u001b[0m 948ms/step - loss: 1.7176 - val_loss: 2.4416\n",
      "Epoch 18/20\n",
      "\u001b[1m983/983\u001b[0m \u001b[32m━━━━━━━━━━━━━━━━━━━━\u001b[0m\u001b[37m\u001b[0m \u001b[1m927s\u001b[0m 943ms/step - loss: 1.7033 - val_loss: 2.4498\n",
      "Epoch 19/20\n",
      "\u001b[1m983/983\u001b[0m \u001b[32m━━━━━━━━━━━━━━━━━━━━\u001b[0m\u001b[37m\u001b[0m \u001b[1m927s\u001b[0m 943ms/step - loss: 1.6906 - val_loss: 2.4577\n",
      "Epoch 20/20\n",
      "\u001b[1m983/983\u001b[0m \u001b[32m━━━━━━━━━━━━━━━━━━━━\u001b[0m\u001b[37m\u001b[0m \u001b[1m931s\u001b[0m 947ms/step - loss: 1.6790 - val_loss: 2.4643\n"
     ]
    },
    {
     "data": {
      "image/png": "[encoded data removed]",
      "text/plain": [
       "<Figure size 700x400 with 1 Axes>"
      ]
     },
     "metadata": {},
     "output_type": "display_data"
    }
   ],
   "source": [
    "# y_dec necesita shape (N, T, 1) o (N, T) con dtype int para sparse loss\n",
    "y_target = np.expand_dims(y_dec, -1)  # (N, T, 1)\n",
    "\n",
    "hist = modelo_entrenamiento.fit(\n",
    "    [X_enc, X_dec_in],\n",
    "    y_target,\n",
    "    batch_size=128,\n",
    "    epochs=20,            # puedes subirlo si tienes tiempo/GPU\n",
    "    validation_split=0.1,\n",
    "    verbose=1\n",
    ")\n",
    "\n",
    "plt.figure(figsize=(7,4))\n",
    "plt.plot(hist.history[\"loss\"], label=\"train\")\n",
    "plt.plot(hist.history[\"val_loss\"], label=\"val\")\n",
    "plt.legend(); plt.title(\"Pérdida\"); plt.xlabel(\"época\"); plt.ylabel(\"loss\"); plt.show()\n"
   ]
  },
  {
   "cell_type": "markdown",
   "metadata": {},
   "source": [
    "En este bloque define la arquitectura de inferencia del chatbot: se construye un modelo encoder_infer que toma la secuencia de entrada y produce el estado oculto final, y un modelo decoder_infer que, dado un token de entrada y el estado anterior, genera la probabilidad de la siguiente palabra junto con el nuevo estado."
   ]
  },
  {
   "cell_type": "code",
   "execution_count": null,
   "metadata": {
    "id": "Gv7bAJuI8nQM"
   },
   "outputs": [],
   "source": [
    "# Modelo encoder para inferencia (genera estado)\n",
    "encoder_infer = Model(encoder_inputs, enc_state)\n",
    "\n",
    "# Partes del decoder para inferencia\n",
    "state_input = Input(shape=(256,), name=\"estado_infer\")\n",
    "dec_emb_inf = modelo_entrenamiento.get_layer(\"emb_decoder\")(decoder_inputs)\n",
    "dec_outputs_inf, state_out_inf = decoder_gru(dec_emb_inf, initial_state=state_input)\n",
    "dec_probs_inf = dec_dense(dec_outputs_inf)\n",
    "decoder_infer = Model([decoder_inputs, state_input], [dec_probs_inf, state_out_inf])\n"
   ]
  },
  {
   "cell_type": "markdown",
   "metadata": {},
   "source": [
    "En este bloque genera respuestas en inferencia: mapea índices a palabras, decodifica una secuencia hasta <eos> y define responder(frase), que limpia el texto, lo vectoriza, obtiene el estado del encoder, y luego usa el decoder paso a paso con búsqueda greedy (argmax) para predecir el siguiente token hasta completar la salida,  finalmente devuelve la frase decodificada y muestra una respuesta para la siguiente pregunta “Hello, how are you?”."
   ]
  },
  {
   "cell_type": "code",
   "execution_count": null,
   "metadata": {
    "executionInfo": {
     "elapsed": 17,
     "status": "aborted",
     "timestamp": 1756087521193,
     "user": {
      "displayName": "Yandri Uchuari",
      "userId": "04950616635261089131"
     },
     "user_tz": 300
    },
    "id": "K3dAs87t8oAd",
    "outputId": "c6b29ca7-dc86-4029-aafb-8ea61f312d50"
   },
   "outputs": [
    {
     "name": "stdout",
     "output_type": "stream",
     "text": [
      "be mad eos eos eos eos eos eos eos eos eos eos eos eos eos\n"
     ]
    }
   ],
   "source": [
    "idx2word = {idx: w for w, idx in tokenizador.word_index.items()}\n",
    "\n",
    "def decodificar(indices):\n",
    "    palabras = []\n",
    "    for idx in indices:\n",
    "        if idx == 0:\n",
    "            continue\n",
    "        w = idx2word.get(idx, \"<unk>\")\n",
    "        if w == EOS:\n",
    "            break\n",
    "        palabras.append(w)\n",
    "    return \" \".join(palabras)\n",
    "\n",
    "def responder(frase, max_tokens=max_len_out):\n",
    "    # Preprocesar entrada\n",
    "    s = limpiar(frase)\n",
    "    seq = tokenizador.texts_to_sequences([s])\n",
    "    seq = pad_sequences(seq, maxlen=max_len_in, padding=\"post\")\n",
    "\n",
    "    # Estado inicial del decoder\n",
    "    est = encoder_infer.predict(seq, verbose=0)\n",
    "\n",
    "    # <sos> como primer token de decoder\n",
    "    dec_in = tokenizador.texts_to_sequences([[SOS]])[0]\n",
    "    dec_seq = pad_sequences([dec_in], maxlen=max_len_out, padding=\"post\")\n",
    "\n",
    "    salida_tokens = []\n",
    "    for t in range(max_tokens):\n",
    "        probs, est = decoder_infer.predict([dec_seq, est], verbose=0)\n",
    "        # Tomar el último paso temporal generado (posición t)\n",
    "        paso_t = probs[:, t, :]\n",
    "        idx = int(np.argmax(paso_t, axis=-1)[0])\n",
    "        salida_tokens.append(idx)\n",
    "\n",
    "        if idx2word.get(idx) == EOS:\n",
    "            break\n",
    "\n",
    "        # Actualizar entrada del decoder en la posición t+1\n",
    "        if t+1 < max_len_out:\n",
    "            dec_seq[0, t+1] = idx\n",
    "\n",
    "    return decodificar(salida_tokens)\n",
    "\n",
    "print(responder(\"Hello, how are you?\"))\n"
   ]
  },
  {
   "cell_type": "markdown",
   "metadata": {},
   "source": [
    "En este bloque levanta una interfaz web usando Gradio para conversar con el modelo: define ui_responder, crea la Interface con un Textbox y un Slider, muestra título y descripción, y finalmente lanza la app con demo.launch() para que el chatbot responda a la pregunta del usuario."
   ]
  },
  {
   "cell_type": "code",
   "execution_count": null,
   "metadata": {
    "executionInfo": {
     "elapsed": 1,
     "status": "aborted",
     "timestamp": 1756087521195,
     "user": {
      "displayName": "Yandri Uchuari",
      "userId": "04950616635261089131"
     },
     "user_tz": 300
    },
    "id": "tMqlWE1e8oDA",
    "outputId": "b05b25b1-a07f-4354-fa92-121380a7f9f2"
   },
   "outputs": [
    {
     "name": "stderr",
     "output_type": "stream",
     "text": [
      "/home/ose/LPN_CEIA_a1906/yandri/lib/python3.12/site-packages/tqdm/auto.py:21: TqdmWarning: IProgress not found. Please update jupyter and ipywidgets. See https://ipywidgets.readthedocs.io/en/stable/user_install.html\n",
      "  from .autonotebook import tqdm as notebook_tqdm\n"
     ]
    },
    {
     "name": "stdout",
     "output_type": "stream",
     "text": [
      "* Running on local URL:  http://127.0.0.1:7860\n",
      "* To create a public link, set `share=True` in `launch()`.\n"
     ]
    },
    {
     "data": {
      "text/html": [
       "<div><iframe src=\"http://127.0.0.1:7860/\" width=\"100%\" height=\"500\" allow=\"autoplay; camera; microphone; clipboard-read; clipboard-write;\" frameborder=\"0\" allowfullscreen></iframe></div>"
      ],
      "text/plain": [
       "<IPython.core.display.HTML object>"
      ]
     },
     "metadata": {},
     "output_type": "display_data"
    },
    {
     "data": {
      "text/plain": []
     },
     "execution_count": 15,
     "metadata": {},
     "output_type": "execute_result"
    }
   ],
   "source": [
    "import gradio as gr\n",
    "\n",
    "def ui_responder(entrada, temperatura=1.0):\n",
    "    \n",
    "    return responder(entrada)\n",
    "\n",
    "demo = gr.Interface(\n",
    "    fn=ui_responder,\n",
    "    inputs=[\n",
    "        gr.Textbox(label=\"Tu mensaje\"),\n",
    "        gr.Slider(0.5, 1.5, value=1.0, step=0.1, label=\"Temperatura (opcional)\")\n",
    "    ],\n",
    "    outputs=\"text\",\n",
    "    title=\"Chatbot Seq2Seq (GRU + GloVe)\",\n",
    "    description=\"Entrenado automáticamente a partir del Cornell Movie Dialogs Corpus.\"\n",
    ")\n",
    "\n",
    "demo.launch()\n"
   ]
  },
  {
   "cell_type": "markdown",
   "metadata": {},
   "source": [
    "![Chat](Chat_capture.jpeg)"
   ]
  },
  {
   "cell_type": "code",
   "execution_count": null,
   "metadata": {
    "id": "NuGjjKjH8oI9"
   },
   "outputs": [],
   "source": []
  }
 ],
 "metadata": {
  "colab": {
   "provenance": []
  },
  "kernelspec": {
   "display_name": "yandri",
   "language": "python",
   "name": "python3"
  },
  "language_info": {
   "codemirror_mode": {
    "name": "ipython",
    "version": 3
   },
   "file_extension": ".py",
   "mimetype": "text/x-python",
   "name": "python",
   "nbconvert_exporter": "python",
   "pygments_lexer": "ipython3",
   "version": "3.12.3"
  }
 },
 "nbformat": 4,
 "nbformat_minor": 0
}
