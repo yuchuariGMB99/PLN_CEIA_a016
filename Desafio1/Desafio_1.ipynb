{
 "cells": [
  {
   "cell_type": "markdown",
   "metadata": {
    "id": "vI5Ed8IXwjcj"
   },
   "source": [
    "Desafio #1\n",
    "\n",
    "Alumno: Yandri Uchuari Gallardo"
   ]
  },
  {
   "cell_type": "code",
   "execution_count": 1,
   "metadata": {
    "colab": {
     "base_uri": "https://localhost:8080/"
    },
    "executionInfo": {
     "elapsed": 22098,
     "status": "ok",
     "timestamp": 1753835835237,
     "user": {
      "displayName": "Yandri Uchuari",
      "userId": "04950616635261089131"
     },
     "user_tz": 300
    },
    "id": "gulMlaErwhTd",
    "outputId": "93e6e6a9-c5cf-4591-e3ed-b751fc526ab7"
   },
   "outputs": [
    {
     "name": "stdout",
     "output_type": "stream",
     "text": [
      "Requirement already satisfied: numpy in /usr/local/lib/python3.11/dist-packages (2.0.2)\n",
      "Requirement already satisfied: scikit-learn in /usr/local/lib/python3.11/dist-packages (1.6.1)\n",
      "Requirement already satisfied: scipy>=1.6.0 in /usr/local/lib/python3.11/dist-packages (from scikit-learn) (1.16.0)\n",
      "Requirement already satisfied: joblib>=1.2.0 in /usr/local/lib/python3.11/dist-packages (from scikit-learn) (1.5.1)\n",
      "Requirement already satisfied: threadpoolctl>=3.1.0 in /usr/local/lib/python3.11/dist-packages (from scikit-learn) (3.6.0)\n"
     ]
    }
   ],
   "source": [
    "%pip install numpy scikit-learn"
   ]
  },
  {
   "cell_type": "markdown",
   "metadata": {
    "id": "zq6j8LsYq1Dr"
   },
   "source": [
    "### Vectorización de texto y modelo de clasificación Naïve Bayes con el dataset 20 newsgroups"
   ]
  },
  {
   "cell_type": "code",
   "execution_count": 2,
   "metadata": {
    "executionInfo": {
     "elapsed": 3011,
     "status": "ok",
     "timestamp": 1753835838251,
     "user": {
      "displayName": "Yandri Uchuari",
      "userId": "04950616635261089131"
     },
     "user_tz": 300
    },
    "id": "l7cXR6CI30ry"
   },
   "outputs": [],
   "source": [
    "from sklearn.feature_extraction.text import CountVectorizer, TfidfVectorizer\n",
    "from sklearn.metrics.pairwise import cosine_similarity\n",
    "from sklearn.naive_bayes import MultinomialNB, ComplementNB\n",
    "from sklearn.metrics import f1_score\n",
    "\n",
    "# 20newsgroups por ser un dataset clásico de NLP ya viene incluido y formateado\n",
    "# en sklearn\n",
    "from sklearn.datasets import fetch_20newsgroups\n",
    "import numpy as np"
   ]
  },
  {
   "cell_type": "markdown",
   "metadata": {
    "id": "yD-pVDWV_rQc"
   },
   "source": [
    "## Carga de datos"
   ]
  },
  {
   "cell_type": "code",
   "execution_count": 3,
   "metadata": {
    "executionInfo": {
     "elapsed": 21604,
     "status": "ok",
     "timestamp": 1753835859876,
     "user": {
      "displayName": "Yandri Uchuari",
      "userId": "04950616635261089131"
     },
     "user_tz": 300
    },
    "id": "Ech9qJaUo9vK"
   },
   "outputs": [],
   "source": [
    "# cargamos los datos (ya separados de forma predeterminada en train y test)\n",
    "newsgroups_train = fetch_20newsgroups(subset='train', remove=('headers', 'footers', 'quotes'))\n",
    "newsgroups_test = fetch_20newsgroups(subset='test', remove=('headers', 'footers', 'quotes'))"
   ]
  },
  {
   "cell_type": "markdown",
   "metadata": {
    "id": "UxjSI7su_uWI"
   },
   "source": [
    "## Vectorización"
   ]
  },
  {
   "cell_type": "code",
   "execution_count": 4,
   "metadata": {
    "executionInfo": {
     "elapsed": 20,
     "status": "ok",
     "timestamp": 1753835859878,
     "user": {
      "displayName": "Yandri Uchuari",
      "userId": "04950616635261089131"
     },
     "user_tz": 300
    },
    "id": "-94VP0QYCzDn"
   },
   "outputs": [],
   "source": [
    "# instanciamos un vectorizador\n",
    "# ver diferentes parámetros de instanciación en la documentación de sklearn https://scikit-learn.org/stable/modules/generated/sklearn.feature_extraction.text.TfidfVectorizer.html\n",
    "tfidfvect = TfidfVectorizer()"
   ]
  },
  {
   "cell_type": "code",
   "execution_count": 5,
   "metadata": {
    "colab": {
     "base_uri": "https://localhost:8080/"
    },
    "executionInfo": {
     "elapsed": 8,
     "status": "ok",
     "timestamp": 1753835859879,
     "user": {
      "displayName": "Yandri Uchuari",
      "userId": "04950616635261089131"
     },
     "user_tz": 300
    },
    "id": "ftPlyanuak8n",
    "outputId": "5db329f9-bcc9-47c2-f31b-d4354eff3f19"
   },
   "outputs": [
    {
     "name": "stdout",
     "output_type": "stream",
     "text": [
      "I was wondering if anyone out there could enlighten me on this car I saw\n",
      "the other day. It was a 2-door sports car, looked to be from the late 60s/\n",
      "early 70s. It was called a Bricklin. The doors were really small. In addition,\n",
      "the front bumper was separate from the rest of the body. This is \n",
      "all I know. If anyone can tellme a model name, engine specs, years\n",
      "of production, where this car is made, history, or whatever info you\n",
      "have on this funky looking car, please e-mail.\n"
     ]
    }
   ],
   "source": [
    "# en el atributo `data` accedemos al texto\n",
    "print(newsgroups_train.data[0])"
   ]
  },
  {
   "cell_type": "code",
   "execution_count": 6,
   "metadata": {
    "executionInfo": {
     "elapsed": 2070,
     "status": "ok",
     "timestamp": 1753835861945,
     "user": {
      "displayName": "Yandri Uchuari",
      "userId": "04950616635261089131"
     },
     "user_tz": 300
    },
    "id": "1zxcXV6aC_oL"
   },
   "outputs": [],
   "source": [
    "# con la interfaz habitual de sklearn podemos fitear el vectorizador\n",
    "# (obtener el vocabulario y calcular el vector IDF)\n",
    "# y transformar directamente los datos\n",
    "X_train = tfidfvect.fit_transform(newsgroups_train.data)\n",
    "# `X_train` la podemos denominar como la matriz documento-término"
   ]
  },
  {
   "cell_type": "code",
   "execution_count": 7,
   "metadata": {
    "colab": {
     "base_uri": "https://localhost:8080/"
    },
    "executionInfo": {
     "elapsed": 15,
     "status": "ok",
     "timestamp": 1753835861974,
     "user": {
      "displayName": "Yandri Uchuari",
      "userId": "04950616635261089131"
     },
     "user_tz": 300
    },
    "id": "4Sv7TXbda41-",
    "outputId": "c585733c-cb3d-4cfb-83b0-179c6c45a6a1"
   },
   "outputs": [
    {
     "name": "stdout",
     "output_type": "stream",
     "text": [
      "<class 'scipy.sparse._csr.csr_matrix'>\n",
      "shape: (11314, 101631)\n",
      "Cantidad de documentos: 11314\n",
      "Tamaño del vocabulario (dimensionalidad de los vectores): 101631\n"
     ]
    }
   ],
   "source": [
    "# recordar que las vectorizaciones por conteos son esparsas\n",
    "# por ello sklearn convenientemente devuelve los vectores de documentos\n",
    "# como matrices esparsas\n",
    "print(type(X_train))\n",
    "print(f'shape: {X_train.shape}')\n",
    "print(f'Cantidad de documentos: {X_train.shape[0]}')\n",
    "print(f'Tamaño del vocabulario (dimensionalidad de los vectores): {X_train.shape[1]}')"
   ]
  },
  {
   "cell_type": "code",
   "execution_count": 8,
   "metadata": {
    "colab": {
     "base_uri": "https://localhost:8080/"
    },
    "executionInfo": {
     "elapsed": 15,
     "status": "ok",
     "timestamp": 1753835861990,
     "user": {
      "displayName": "Yandri Uchuari",
      "userId": "04950616635261089131"
     },
     "user_tz": 300
    },
    "id": "dgydNTZ2pAgR",
    "outputId": "6687be83-b95c-4217-f466-668f725ae296"
   },
   "outputs": [
    {
     "data": {
      "text/plain": [
       "25775"
      ]
     },
     "execution_count": 8,
     "metadata": {},
     "output_type": "execute_result"
    }
   ],
   "source": [
    "# una vez fiteado el vectorizador, podemos acceder a atributos como el vocabulario\n",
    "# aprendido. Es un diccionario que va de términos a índices.\n",
    "# El índice es la posición en el vector de documento.\n",
    "tfidfvect.vocabulary_['car']"
   ]
  },
  {
   "cell_type": "code",
   "execution_count": 9,
   "metadata": {
    "executionInfo": {
     "elapsed": 15,
     "status": "ok",
     "timestamp": 1753835862007,
     "user": {
      "displayName": "Yandri Uchuari",
      "userId": "04950616635261089131"
     },
     "user_tz": 300
    },
    "id": "xnTSZuvyrTcP"
   },
   "outputs": [],
   "source": [
    "# es muy útil tener el diccionario opuesto que va de índices a términos\n",
    "idx2word = {v: k for k,v in tfidfvect.vocabulary_.items()}"
   ]
  },
  {
   "cell_type": "code",
   "execution_count": 10,
   "metadata": {
    "colab": {
     "base_uri": "https://localhost:8080/"
    },
    "executionInfo": {
     "elapsed": 37,
     "status": "ok",
     "timestamp": 1753835862047,
     "user": {
      "displayName": "Yandri Uchuari",
      "userId": "04950616635261089131"
     },
     "user_tz": 300
    },
    "id": "swa-AgWrMSHM",
    "outputId": "e326237b-55c3-4168-d027-c46d4603a620"
   },
   "outputs": [
    {
     "data": {
      "text/plain": [
       "array([ 7,  4,  4,  1, 14, 16, 13,  3,  2,  4])"
      ]
     },
     "execution_count": 10,
     "metadata": {},
     "output_type": "execute_result"
    }
   ],
   "source": [
    "# en `y_train` guardamos los targets que son enteros\n",
    "y_train = newsgroups_train.target\n",
    "y_train[:10]"
   ]
  },
  {
   "cell_type": "code",
   "execution_count": 11,
   "metadata": {
    "colab": {
     "base_uri": "https://localhost:8080/"
    },
    "executionInfo": {
     "elapsed": 12,
     "status": "ok",
     "timestamp": 1753835862049,
     "user": {
      "displayName": "Yandri Uchuari",
      "userId": "04950616635261089131"
     },
     "user_tz": 300
    },
    "id": "je5kxvQMDLvf",
    "outputId": "3f5ccfbb-50f5-4a60-ca3a-63492b50aef6"
   },
   "outputs": [
    {
     "name": "stdout",
     "output_type": "stream",
     "text": [
      "clases [ 0  1  2  3  4  5  6  7  8  9 10 11 12 13 14 15 16 17 18 19]\n"
     ]
    },
    {
     "data": {
      "text/plain": [
       "['alt.atheism',\n",
       " 'comp.graphics',\n",
       " 'comp.os.ms-windows.misc',\n",
       " 'comp.sys.ibm.pc.hardware',\n",
       " 'comp.sys.mac.hardware',\n",
       " 'comp.windows.x',\n",
       " 'misc.forsale',\n",
       " 'rec.autos',\n",
       " 'rec.motorcycles',\n",
       " 'rec.sport.baseball',\n",
       " 'rec.sport.hockey',\n",
       " 'sci.crypt',\n",
       " 'sci.electronics',\n",
       " 'sci.med',\n",
       " 'sci.space',\n",
       " 'soc.religion.christian',\n",
       " 'talk.politics.guns',\n",
       " 'talk.politics.mideast',\n",
       " 'talk.politics.misc',\n",
       " 'talk.religion.misc']"
      ]
     },
     "execution_count": 11,
     "metadata": {},
     "output_type": "execute_result"
    }
   ],
   "source": [
    "# hay 20 clases correspondientes a los 20 grupos de noticias\n",
    "print(f'clases {np.unique(newsgroups_test.target)}')\n",
    "newsgroups_test.target_names"
   ]
  },
  {
   "cell_type": "markdown",
   "metadata": {
    "id": "SXCICFSd_y90"
   },
   "source": [
    "## Similaridad de documentos"
   ]
  },
  {
   "cell_type": "code",
   "execution_count": 12,
   "metadata": {
    "colab": {
     "base_uri": "https://localhost:8080/"
    },
    "executionInfo": {
     "elapsed": 28,
     "status": "ok",
     "timestamp": 1753835862072,
     "user": {
      "displayName": "Yandri Uchuari",
      "userId": "04950616635261089131"
     },
     "user_tz": 300
    },
    "id": "_pki_olShnyE",
    "outputId": "27cf1298-d41c-4484-95ff-86baa6b744b6"
   },
   "outputs": [
    {
     "name": "stdout",
     "output_type": "stream",
     "text": [
      "THE WHITE HOUSE\n",
      "\n",
      "                  Office of the Press Secretary\n",
      "                   (Pittsburgh, Pennslyvania)\n",
      "______________________________________________________________\n",
      "For Immediate Release                         April 17, 1993     \n",
      "\n",
      "             \n",
      "                  RADIO ADDRESS TO THE NATION \n",
      "                        BY THE PRESIDENT\n",
      "             \n",
      "                Pittsburgh International Airport\n",
      "                    Pittsburgh, Pennsylvania\n",
      "             \n",
      "             \n",
      "10:06 A.M. EDT\n",
      "             \n",
      "             \n",
      "             THE PRESIDENT:  Good morning.  My voice is coming to\n",
      "you this morning through the facilities of the oldest radio\n",
      "station in America, KDKA in Pittsburgh.  I'm visiting the city to\n",
      "meet personally with citizens here to discuss my plans for jobs,\n",
      "health care and the economy.  But I wanted first to do my weekly\n",
      "broadcast with the American people. \n",
      "             \n",
      "             I'm told this station first broadcast in 1920 when\n",
      "it reported that year's presidential elections.  Over the past\n",
      "seven decades presidents have found ways to keep in touch with\n",
      "the people, from whistle-stop tours to fire-side chats to the bus\n",
      "tour that I adopted, along with Vice President Gore, in last\n",
      "year's campaign.\n",
      "             \n",
      "             Every Saturday morning I take this time to talk with\n",
      "you, my fellow Americans, about the problems on your minds and\n",
      "what I'm doing to try and solve them.  It's my way of reporting\n",
      "to you and of giving you a way to hold me accountable.\n",
      "             \n",
      "             You sent me to Washington to get our government and\n",
      "economy moving after years of paralysis and policy and a bad\n",
      "experiment with trickle-down economics.  You know how important\n",
      "it is for us to make bold, comprehensive changes in the way we do\n",
      "business.  \n",
      "             \n",
      "             We live in a competitive global economy.  Nations\n",
      "rise and fall on the skills of their workers, the competitiveness\n",
      "of their companies, the imagination of their industries, and the\n",
      "cooperative experience and spirit that exists between business,\n",
      "labor and government.  Although many of the economies of the\n",
      "industrialized world are now suffering from slow growth, they've\n",
      "made many of the smart investments and the tough choices which\n",
      "our government has for too long ignored.  That's why many of them\n",
      "have been moving ahead and too many of our people have been\n",
      "falling behind.\n",
      "             \n",
      "             We have an economy today that even when it grows is\n",
      "not producing new jobs.  We've increased the debt of our nation\n",
      "by four times over the last 12 years, and we don't have much to\n",
      "show for it.  We know that wages of most working people have\n",
      "stopped rising, that most people are working longer work weeks\n",
      "and that too many families can no longer afford the escalating\n",
      "cost of health care.\n",
      "             \n",
      "             But we also know that, given the right tools, the\n",
      "right incentives and the right encouragement, our workers and\n",
      "businesses can make the kinds of products and profits our economy\n",
      "needs to expand opportunity and to make our communities better\n",
      "places to live.\n",
      "             \n",
      "             In many critical products today Americans are the\n",
      "low cost, high quality producers.  Our task is to make sure that\n",
      "we create more of those kinds of jobs.\n",
      "             \n",
      "             Just two months ago I gave Congress my plan for\n",
      "long-term jobs and economic growth.  It changes the old\n",
      "priorities in Washington and puts our emphasis where it needs to\n",
      "be -- on people's real needs, on increasing investments and jobs\n",
      "and education, on cutting the federal deficit, on stopping the\n",
      "waste which pays no dividends, and redirecting our precious\n",
      "resources toward investment that creates jobs now and lays the\n",
      "groundwork for robust economic growth in the future.\n",
      "             \n",
      "             These new directions passed the Congress in record\n",
      "time and created a new sense of hope and opportunity in our\n",
      "country.  Then the jobs plan I presented to Congress, which would\n",
      "create hundreds of thousands of jobs, most of them in the private\n",
      "sector in 1993 and 1994, passed the House of Representatives.  It\n",
      "now has the support of a majority of the United States Senate. \n",
      "But it's been held up by a filibuster of a minority in the\n",
      "Senate, just 43 senators.  They blocked a vote that they know\n",
      "would result in the passage of our bill and the creation of jobs.\n",
      "             \n",
      "             The issue isn't politics; the issue is people. \n",
      "Millions of Americans are waiting for this legislation and\n",
      "counting on it, counting on us in Washington.  But the jobs bill\n",
      "has been grounded by gridlock.  \n",
      "             \n",
      "             I know the American people are tired of business as\n",
      "usual and politics as usual.  I know they don't want us to spin\n",
      "or wheels.  They want the recovery to get moving.  So I have\n",
      "taken a first step to break this gridlock and gone the extra\n",
      "mile.  Yesterday I offered to cut the size of this plan by 25\n",
      "percent -- from $16 billion to $12 billion.  \n",
      "             \n",
      "             It's not what I'd hoped for.  With 16 million\n",
      "Americans looking for full-time work, I simply can't let the bill\n",
      "languish when I know that even a compromise bill will mean\n",
      "hundreds of thousands of jobs for our people.  The mandate is to\n",
      "act to achieve change and move the country forward.  By taking\n",
      "this initiative in the face of an unrelenting Senate talkathon, I\n",
      "think we can respond to your mandate and achieve a significant\n",
      "portion of our original goals.\n",
      "             \n",
      "             First, we want to keep the programs as much as\n",
      "possible that are needed to generate jobs and meet human needs,\n",
      "including highway and road construction, summer jobs for young\n",
      "people, immunization for children, construction of waste water\n",
      "sites, and aid to small businesses.  We also want to keep funding\n",
      "for extended unemployment compensation benefits, for people who\n",
      "have been unemployed for a long time because the economy isn't\n",
      "creating jobs.\n",
      "             \n",
      "             Second, I've recommended that all the other programs\n",
      "in the bill be cut across-the-board by a little more than 40\n",
      "percent.\n",
      "             \n",
      "             And third, I've recommended a new element in this\n",
      "program to help us immediately start our attempt to fight against\n",
      "crime by providing $200 million for cities and towns to rehire\n",
      "police officers who lost their jobs during the recession and put\n",
      "them back to work protecting our people.  I'm also going to fight\n",
      "for a tough crime bill because the people of this country need it\n",
      "and deserve it.\n",
      "             \n",
      "             Now, the people who are filibustering this bill --\n",
      "the Republican senators -- say they won't vote for it because it\n",
      "increases deficit spending, because there's extra spending this\n",
      "year that hasn't already been approved.  That sounds reasonable,\n",
      "doesn't it?  Here's what they don't say.  This program is more\n",
      "than paid for by budget cuts over my five-year budget, and this\n",
      "budget is well within the spending limits already approved by the\n",
      "Congress this year.\n",
      "             \n",
      "             It's amazing to me that many of these same senators\n",
      "who are filibustering the bill voted during the previous\n",
      "administration for billions of dollars of the same kind of\n",
      "emergency spending, and much of it was not designed to put the\n",
      "American people to work.  \n",
      "             \n",
      "             This is not about deficit spending.  We have offered\n",
      "a plan to cut the deficit.  This is about where your priorities\n",
      "are -- on people or on politics.  \n",
      "             \n",
      "             Keep in mind that our jobs bill is paid for dollar\n",
      "for dollar.  It is paid for by budget cuts.  And it's the\n",
      "soundest investment we can now make for ourselves and our\n",
      "children.  I urge all Americans to take another look at this jobs\n",
      "and investment program; to consider again the benefits for all of\n",
      "us when we've helped make more American partners working to\n",
      "ensure the future of our nation and the strength of our economy.\n",
      "             \n",
      "             You know, if every American who wanted a job had\n",
      "one, we wouldn't have a lot of the other problems we have in this\n",
      "country today.  This bill is not a miracle, it's a modest first\n",
      "step to try to set off a job creation explosion in this country\n",
      "again.  But it's a step we ought to take.  And it is fully paid\n",
      "for over the life of our budget.\n",
      "             \n",
      "             Tell your lawmakers what you think.  Tell them how\n",
      "important the bill is.  If it passes, we'll all be winners.\n",
      "             \n",
      "             Good morning, and thank you for listening.\n"
     ]
    }
   ],
   "source": [
    "# Veamos similaridad de documentos. Tomemos algún documento\n",
    "idx = 4811\n",
    "print(newsgroups_train.data[idx])"
   ]
  },
  {
   "cell_type": "code",
   "execution_count": 13,
   "metadata": {
    "executionInfo": {
     "elapsed": 32,
     "status": "ok",
     "timestamp": 1753835862104,
     "user": {
      "displayName": "Yandri Uchuari",
      "userId": "04950616635261089131"
     },
     "user_tz": 300
    },
    "id": "Ssa9bqJ-hA_v"
   },
   "outputs": [],
   "source": [
    "# midamos la similaridad coseno con todos los documentos de train\n",
    "cossim = cosine_similarity(X_train[idx], X_train)[0]"
   ]
  },
  {
   "cell_type": "code",
   "execution_count": 14,
   "metadata": {
    "colab": {
     "base_uri": "https://localhost:8080/"
    },
    "executionInfo": {
     "elapsed": 41,
     "status": "ok",
     "timestamp": 1753835862147,
     "user": {
      "displayName": "Yandri Uchuari",
      "userId": "04950616635261089131"
     },
     "user_tz": 300
    },
    "id": "p_mDA7p3AzcQ",
    "outputId": "73e57608-a3aa-4e23-f0d0-fefb03f43700"
   },
   "outputs": [
    {
     "data": {
      "text/plain": [
       "array([1.        , 0.70930477, 0.67474953, ..., 0.        , 0.        ,\n",
       "       0.        ])"
      ]
     },
     "execution_count": 14,
     "metadata": {},
     "output_type": "execute_result"
    }
   ],
   "source": [
    "# podemos ver los valores de similaridad ordenados de mayor a menos\n",
    "np.sort(cossim)[::-1]"
   ]
  },
  {
   "cell_type": "code",
   "execution_count": 15,
   "metadata": {
    "colab": {
     "base_uri": "https://localhost:8080/"
    },
    "executionInfo": {
     "elapsed": 10,
     "status": "ok",
     "timestamp": 1753835862159,
     "user": {
      "displayName": "Yandri Uchuari",
      "userId": "04950616635261089131"
     },
     "user_tz": 300
    },
    "id": "0OIhDA1jAryX",
    "outputId": "f9fd9912-aef7-427a-a934-cf06cf6e8154"
   },
   "outputs": [
    {
     "data": {
      "text/plain": [
       "array([4811, 6635, 4253, ..., 9019, 9016, 8748])"
      ]
     },
     "execution_count": 15,
     "metadata": {},
     "output_type": "execute_result"
    }
   ],
   "source": [
    "# y a qué documentos corresponden\n",
    "np.argsort(cossim)[::-1]"
   ]
  },
  {
   "cell_type": "code",
   "execution_count": 16,
   "metadata": {
    "executionInfo": {
     "elapsed": 3,
     "status": "ok",
     "timestamp": 1753835862161,
     "user": {
      "displayName": "Yandri Uchuari",
      "userId": "04950616635261089131"
     },
     "user_tz": 300
    },
    "id": "hP7qLS4ZBLps"
   },
   "outputs": [],
   "source": [
    "# los 5 documentos más similares:\n",
    "mostsim = np.argsort(cossim)[::-1][1:6]"
   ]
  },
  {
   "cell_type": "code",
   "execution_count": 17,
   "metadata": {
    "colab": {
     "base_uri": "https://localhost:8080/",
     "height": 36
    },
    "executionInfo": {
     "elapsed": 11,
     "status": "ok",
     "timestamp": 1753835862173,
     "user": {
      "displayName": "Yandri Uchuari",
      "userId": "04950616635261089131"
     },
     "user_tz": 300
    },
    "id": "QdJLHPJACvaj",
    "outputId": "5337e3d0-9452-48b3-a743-28ab94069f9d"
   },
   "outputs": [
    {
     "data": {
      "application/vnd.google.colaboratory.intrinsic+json": {
       "type": "string"
      },
      "text/plain": [
       "'talk.politics.misc'"
      ]
     },
     "execution_count": 17,
     "metadata": {},
     "output_type": "execute_result"
    }
   ],
   "source": [
    "# el documento original pertenece a la clase:\n",
    "newsgroups_train.target_names[y_train[idx]]"
   ]
  },
  {
   "cell_type": "code",
   "execution_count": 18,
   "metadata": {
    "colab": {
     "base_uri": "https://localhost:8080/"
    },
    "executionInfo": {
     "elapsed": 9,
     "status": "ok",
     "timestamp": 1753835862174,
     "user": {
      "displayName": "Yandri Uchuari",
      "userId": "04950616635261089131"
     },
     "user_tz": 300
    },
    "id": "RWy_73epCbFG",
    "outputId": "9de31d91-9ecc-4078-9fac-6bf2184294a5"
   },
   "outputs": [
    {
     "name": "stdout",
     "output_type": "stream",
     "text": [
      "talk.politics.misc\n",
      "talk.politics.misc\n",
      "talk.politics.misc\n",
      "talk.politics.misc\n",
      "talk.politics.misc\n"
     ]
    }
   ],
   "source": [
    "# y los 5 más similares son de las clases:\n",
    "for i in mostsim:\n",
    "  print(newsgroups_train.target_names[y_train[i]])"
   ]
  },
  {
   "cell_type": "markdown",
   "metadata": {
    "id": "zRoNnKwhBqzq"
   },
   "source": [
    "### Modelo de clasificación Naïve Bayes"
   ]
  },
  {
   "cell_type": "code",
   "execution_count": 19,
   "metadata": {
    "colab": {
     "base_uri": "https://localhost:8080/",
     "height": 80
    },
    "executionInfo": {
     "elapsed": 150,
     "status": "ok",
     "timestamp": 1753835862323,
     "user": {
      "displayName": "Yandri Uchuari",
      "userId": "04950616635261089131"
     },
     "user_tz": 300
    },
    "id": "TPM0thDaLk0R",
    "outputId": "e50d7119-d121-473e-fbf7-b5b576ed8b80"
   },
   "outputs": [
    {
     "data": {
      "text/html": [
       "<style>#sk-container-id-1 {\n",
       "  /* Definition of color scheme common for light and dark mode */\n",
       "  --sklearn-color-text: #000;\n",
       "  --sklearn-color-text-muted: #666;\n",
       "  --sklearn-color-line: gray;\n",
       "  /* Definition of color scheme for unfitted estimators */\n",
       "  --sklearn-color-unfitted-level-0: #fff5e6;\n",
       "  --sklearn-color-unfitted-level-1: #f6e4d2;\n",
       "  --sklearn-color-unfitted-level-2: #ffe0b3;\n",
       "  --sklearn-color-unfitted-level-3: chocolate;\n",
       "  /* Definition of color scheme for fitted estimators */\n",
       "  --sklearn-color-fitted-level-0: #f0f8ff;\n",
       "  --sklearn-color-fitted-level-1: #d4ebff;\n",
       "  --sklearn-color-fitted-level-2: #b3dbfd;\n",
       "  --sklearn-color-fitted-level-3: cornflowerblue;\n",
       "\n",
       "  /* Specific color for light theme */\n",
       "  --sklearn-color-text-on-default-background: var(--sg-text-color, var(--theme-code-foreground, var(--jp-content-font-color1, black)));\n",
       "  --sklearn-color-background: var(--sg-background-color, var(--theme-background, var(--jp-layout-color0, white)));\n",
       "  --sklearn-color-border-box: var(--sg-text-color, var(--theme-code-foreground, var(--jp-content-font-color1, black)));\n",
       "  --sklearn-color-icon: #696969;\n",
       "\n",
       "  @media (prefers-color-scheme: dark) {\n",
       "    /* Redefinition of color scheme for dark theme */\n",
       "    --sklearn-color-text-on-default-background: var(--sg-text-color, var(--theme-code-foreground, var(--jp-content-font-color1, white)));\n",
       "    --sklearn-color-background: var(--sg-background-color, var(--theme-background, var(--jp-layout-color0, #111)));\n",
       "    --sklearn-color-border-box: var(--sg-text-color, var(--theme-code-foreground, var(--jp-content-font-color1, white)));\n",
       "    --sklearn-color-icon: #878787;\n",
       "  }\n",
       "}\n",
       "\n",
       "#sk-container-id-1 {\n",
       "  color: var(--sklearn-color-text);\n",
       "}\n",
       "\n",
       "#sk-container-id-1 pre {\n",
       "  padding: 0;\n",
       "}\n",
       "\n",
       "#sk-container-id-1 input.sk-hidden--visually {\n",
       "  border: 0;\n",
       "  clip: rect(1px 1px 1px 1px);\n",
       "  clip: rect(1px, 1px, 1px, 1px);\n",
       "  height: 1px;\n",
       "  margin: -1px;\n",
       "  overflow: hidden;\n",
       "  padding: 0;\n",
       "  position: absolute;\n",
       "  width: 1px;\n",
       "}\n",
       "\n",
       "#sk-container-id-1 div.sk-dashed-wrapped {\n",
       "  border: 1px dashed var(--sklearn-color-line);\n",
       "  margin: 0 0.4em 0.5em 0.4em;\n",
       "  box-sizing: border-box;\n",
       "  padding-bottom: 0.4em;\n",
       "  background-color: var(--sklearn-color-background);\n",
       "}\n",
       "\n",
       "#sk-container-id-1 div.sk-container {\n",
       "  /* jupyter's `normalize.less` sets `[hidden] { display: none; }`\n",
       "     but bootstrap.min.css set `[hidden] { display: none !important; }`\n",
       "     so we also need the `!important` here to be able to override the\n",
       "     default hidden behavior on the sphinx rendered scikit-learn.org.\n",
       "     See: https://github.com/scikit-learn/scikit-learn/issues/21755 */\n",
       "  display: inline-block !important;\n",
       "  position: relative;\n",
       "}\n",
       "\n",
       "#sk-container-id-1 div.sk-text-repr-fallback {\n",
       "  display: none;\n",
       "}\n",
       "\n",
       "div.sk-parallel-item,\n",
       "div.sk-serial,\n",
       "div.sk-item {\n",
       "  /* draw centered vertical line to link estimators */\n",
       "  background-image: linear-gradient(var(--sklearn-color-text-on-default-background), var(--sklearn-color-text-on-default-background));\n",
       "  background-size: 2px 100%;\n",
       "  background-repeat: no-repeat;\n",
       "  background-position: center center;\n",
       "}\n",
       "\n",
       "/* Parallel-specific style estimator block */\n",
       "\n",
       "#sk-container-id-1 div.sk-parallel-item::after {\n",
       "  content: \"\";\n",
       "  width: 100%;\n",
       "  border-bottom: 2px solid var(--sklearn-color-text-on-default-background);\n",
       "  flex-grow: 1;\n",
       "}\n",
       "\n",
       "#sk-container-id-1 div.sk-parallel {\n",
       "  display: flex;\n",
       "  align-items: stretch;\n",
       "  justify-content: center;\n",
       "  background-color: var(--sklearn-color-background);\n",
       "  position: relative;\n",
       "}\n",
       "\n",
       "#sk-container-id-1 div.sk-parallel-item {\n",
       "  display: flex;\n",
       "  flex-direction: column;\n",
       "}\n",
       "\n",
       "#sk-container-id-1 div.sk-parallel-item:first-child::after {\n",
       "  align-self: flex-end;\n",
       "  width: 50%;\n",
       "}\n",
       "\n",
       "#sk-container-id-1 div.sk-parallel-item:last-child::after {\n",
       "  align-self: flex-start;\n",
       "  width: 50%;\n",
       "}\n",
       "\n",
       "#sk-container-id-1 div.sk-parallel-item:only-child::after {\n",
       "  width: 0;\n",
       "}\n",
       "\n",
       "/* Serial-specific style estimator block */\n",
       "\n",
       "#sk-container-id-1 div.sk-serial {\n",
       "  display: flex;\n",
       "  flex-direction: column;\n",
       "  align-items: center;\n",
       "  background-color: var(--sklearn-color-background);\n",
       "  padding-right: 1em;\n",
       "  padding-left: 1em;\n",
       "}\n",
       "\n",
       "\n",
       "/* Toggleable style: style used for estimator/Pipeline/ColumnTransformer box that is\n",
       "clickable and can be expanded/collapsed.\n",
       "- Pipeline and ColumnTransformer use this feature and define the default style\n",
       "- Estimators will overwrite some part of the style using the `sk-estimator` class\n",
       "*/\n",
       "\n",
       "/* Pipeline and ColumnTransformer style (default) */\n",
       "\n",
       "#sk-container-id-1 div.sk-toggleable {\n",
       "  /* Default theme specific background. It is overwritten whether we have a\n",
       "  specific estimator or a Pipeline/ColumnTransformer */\n",
       "  background-color: var(--sklearn-color-background);\n",
       "}\n",
       "\n",
       "/* Toggleable label */\n",
       "#sk-container-id-1 label.sk-toggleable__label {\n",
       "  cursor: pointer;\n",
       "  display: flex;\n",
       "  width: 100%;\n",
       "  margin-bottom: 0;\n",
       "  padding: 0.5em;\n",
       "  box-sizing: border-box;\n",
       "  text-align: center;\n",
       "  align-items: start;\n",
       "  justify-content: space-between;\n",
       "  gap: 0.5em;\n",
       "}\n",
       "\n",
       "#sk-container-id-1 label.sk-toggleable__label .caption {\n",
       "  font-size: 0.6rem;\n",
       "  font-weight: lighter;\n",
       "  color: var(--sklearn-color-text-muted);\n",
       "}\n",
       "\n",
       "#sk-container-id-1 label.sk-toggleable__label-arrow:before {\n",
       "  /* Arrow on the left of the label */\n",
       "  content: \"▸\";\n",
       "  float: left;\n",
       "  margin-right: 0.25em;\n",
       "  color: var(--sklearn-color-icon);\n",
       "}\n",
       "\n",
       "#sk-container-id-1 label.sk-toggleable__label-arrow:hover:before {\n",
       "  color: var(--sklearn-color-text);\n",
       "}\n",
       "\n",
       "/* Toggleable content - dropdown */\n",
       "\n",
       "#sk-container-id-1 div.sk-toggleable__content {\n",
       "  max-height: 0;\n",
       "  max-width: 0;\n",
       "  overflow: hidden;\n",
       "  text-align: left;\n",
       "  /* unfitted */\n",
       "  background-color: var(--sklearn-color-unfitted-level-0);\n",
       "}\n",
       "\n",
       "#sk-container-id-1 div.sk-toggleable__content.fitted {\n",
       "  /* fitted */\n",
       "  background-color: var(--sklearn-color-fitted-level-0);\n",
       "}\n",
       "\n",
       "#sk-container-id-1 div.sk-toggleable__content pre {\n",
       "  margin: 0.2em;\n",
       "  border-radius: 0.25em;\n",
       "  color: var(--sklearn-color-text);\n",
       "  /* unfitted */\n",
       "  background-color: var(--sklearn-color-unfitted-level-0);\n",
       "}\n",
       "\n",
       "#sk-container-id-1 div.sk-toggleable__content.fitted pre {\n",
       "  /* unfitted */\n",
       "  background-color: var(--sklearn-color-fitted-level-0);\n",
       "}\n",
       "\n",
       "#sk-container-id-1 input.sk-toggleable__control:checked~div.sk-toggleable__content {\n",
       "  /* Expand drop-down */\n",
       "  max-height: 200px;\n",
       "  max-width: 100%;\n",
       "  overflow: auto;\n",
       "}\n",
       "\n",
       "#sk-container-id-1 input.sk-toggleable__control:checked~label.sk-toggleable__label-arrow:before {\n",
       "  content: \"▾\";\n",
       "}\n",
       "\n",
       "/* Pipeline/ColumnTransformer-specific style */\n",
       "\n",
       "#sk-container-id-1 div.sk-label input.sk-toggleable__control:checked~label.sk-toggleable__label {\n",
       "  color: var(--sklearn-color-text);\n",
       "  background-color: var(--sklearn-color-unfitted-level-2);\n",
       "}\n",
       "\n",
       "#sk-container-id-1 div.sk-label.fitted input.sk-toggleable__control:checked~label.sk-toggleable__label {\n",
       "  background-color: var(--sklearn-color-fitted-level-2);\n",
       "}\n",
       "\n",
       "/* Estimator-specific style */\n",
       "\n",
       "/* Colorize estimator box */\n",
       "#sk-container-id-1 div.sk-estimator input.sk-toggleable__control:checked~label.sk-toggleable__label {\n",
       "  /* unfitted */\n",
       "  background-color: var(--sklearn-color-unfitted-level-2);\n",
       "}\n",
       "\n",
       "#sk-container-id-1 div.sk-estimator.fitted input.sk-toggleable__control:checked~label.sk-toggleable__label {\n",
       "  /* fitted */\n",
       "  background-color: var(--sklearn-color-fitted-level-2);\n",
       "}\n",
       "\n",
       "#sk-container-id-1 div.sk-label label.sk-toggleable__label,\n",
       "#sk-container-id-1 div.sk-label label {\n",
       "  /* The background is the default theme color */\n",
       "  color: var(--sklearn-color-text-on-default-background);\n",
       "}\n",
       "\n",
       "/* On hover, darken the color of the background */\n",
       "#sk-container-id-1 div.sk-label:hover label.sk-toggleable__label {\n",
       "  color: var(--sklearn-color-text);\n",
       "  background-color: var(--sklearn-color-unfitted-level-2);\n",
       "}\n",
       "\n",
       "/* Label box, darken color on hover, fitted */\n",
       "#sk-container-id-1 div.sk-label.fitted:hover label.sk-toggleable__label.fitted {\n",
       "  color: var(--sklearn-color-text);\n",
       "  background-color: var(--sklearn-color-fitted-level-2);\n",
       "}\n",
       "\n",
       "/* Estimator label */\n",
       "\n",
       "#sk-container-id-1 div.sk-label label {\n",
       "  font-family: monospace;\n",
       "  font-weight: bold;\n",
       "  display: inline-block;\n",
       "  line-height: 1.2em;\n",
       "}\n",
       "\n",
       "#sk-container-id-1 div.sk-label-container {\n",
       "  text-align: center;\n",
       "}\n",
       "\n",
       "/* Estimator-specific */\n",
       "#sk-container-id-1 div.sk-estimator {\n",
       "  font-family: monospace;\n",
       "  border: 1px dotted var(--sklearn-color-border-box);\n",
       "  border-radius: 0.25em;\n",
       "  box-sizing: border-box;\n",
       "  margin-bottom: 0.5em;\n",
       "  /* unfitted */\n",
       "  background-color: var(--sklearn-color-unfitted-level-0);\n",
       "}\n",
       "\n",
       "#sk-container-id-1 div.sk-estimator.fitted {\n",
       "  /* fitted */\n",
       "  background-color: var(--sklearn-color-fitted-level-0);\n",
       "}\n",
       "\n",
       "/* on hover */\n",
       "#sk-container-id-1 div.sk-estimator:hover {\n",
       "  /* unfitted */\n",
       "  background-color: var(--sklearn-color-unfitted-level-2);\n",
       "}\n",
       "\n",
       "#sk-container-id-1 div.sk-estimator.fitted:hover {\n",
       "  /* fitted */\n",
       "  background-color: var(--sklearn-color-fitted-level-2);\n",
       "}\n",
       "\n",
       "/* Specification for estimator info (e.g. \"i\" and \"?\") */\n",
       "\n",
       "/* Common style for \"i\" and \"?\" */\n",
       "\n",
       ".sk-estimator-doc-link,\n",
       "a:link.sk-estimator-doc-link,\n",
       "a:visited.sk-estimator-doc-link {\n",
       "  float: right;\n",
       "  font-size: smaller;\n",
       "  line-height: 1em;\n",
       "  font-family: monospace;\n",
       "  background-color: var(--sklearn-color-background);\n",
       "  border-radius: 1em;\n",
       "  height: 1em;\n",
       "  width: 1em;\n",
       "  text-decoration: none !important;\n",
       "  margin-left: 0.5em;\n",
       "  text-align: center;\n",
       "  /* unfitted */\n",
       "  border: var(--sklearn-color-unfitted-level-1) 1pt solid;\n",
       "  color: var(--sklearn-color-unfitted-level-1);\n",
       "}\n",
       "\n",
       ".sk-estimator-doc-link.fitted,\n",
       "a:link.sk-estimator-doc-link.fitted,\n",
       "a:visited.sk-estimator-doc-link.fitted {\n",
       "  /* fitted */\n",
       "  border: var(--sklearn-color-fitted-level-1) 1pt solid;\n",
       "  color: var(--sklearn-color-fitted-level-1);\n",
       "}\n",
       "\n",
       "/* On hover */\n",
       "div.sk-estimator:hover .sk-estimator-doc-link:hover,\n",
       ".sk-estimator-doc-link:hover,\n",
       "div.sk-label-container:hover .sk-estimator-doc-link:hover,\n",
       ".sk-estimator-doc-link:hover {\n",
       "  /* unfitted */\n",
       "  background-color: var(--sklearn-color-unfitted-level-3);\n",
       "  color: var(--sklearn-color-background);\n",
       "  text-decoration: none;\n",
       "}\n",
       "\n",
       "div.sk-estimator.fitted:hover .sk-estimator-doc-link.fitted:hover,\n",
       ".sk-estimator-doc-link.fitted:hover,\n",
       "div.sk-label-container:hover .sk-estimator-doc-link.fitted:hover,\n",
       ".sk-estimator-doc-link.fitted:hover {\n",
       "  /* fitted */\n",
       "  background-color: var(--sklearn-color-fitted-level-3);\n",
       "  color: var(--sklearn-color-background);\n",
       "  text-decoration: none;\n",
       "}\n",
       "\n",
       "/* Span, style for the box shown on hovering the info icon */\n",
       ".sk-estimator-doc-link span {\n",
       "  display: none;\n",
       "  z-index: 9999;\n",
       "  position: relative;\n",
       "  font-weight: normal;\n",
       "  right: .2ex;\n",
       "  padding: .5ex;\n",
       "  margin: .5ex;\n",
       "  width: min-content;\n",
       "  min-width: 20ex;\n",
       "  max-width: 50ex;\n",
       "  color: var(--sklearn-color-text);\n",
       "  box-shadow: 2pt 2pt 4pt #999;\n",
       "  /* unfitted */\n",
       "  background: var(--sklearn-color-unfitted-level-0);\n",
       "  border: .5pt solid var(--sklearn-color-unfitted-level-3);\n",
       "}\n",
       "\n",
       ".sk-estimator-doc-link.fitted span {\n",
       "  /* fitted */\n",
       "  background: var(--sklearn-color-fitted-level-0);\n",
       "  border: var(--sklearn-color-fitted-level-3);\n",
       "}\n",
       "\n",
       ".sk-estimator-doc-link:hover span {\n",
       "  display: block;\n",
       "}\n",
       "\n",
       "/* \"?\"-specific style due to the `<a>` HTML tag */\n",
       "\n",
       "#sk-container-id-1 a.estimator_doc_link {\n",
       "  float: right;\n",
       "  font-size: 1rem;\n",
       "  line-height: 1em;\n",
       "  font-family: monospace;\n",
       "  background-color: var(--sklearn-color-background);\n",
       "  border-radius: 1rem;\n",
       "  height: 1rem;\n",
       "  width: 1rem;\n",
       "  text-decoration: none;\n",
       "  /* unfitted */\n",
       "  color: var(--sklearn-color-unfitted-level-1);\n",
       "  border: var(--sklearn-color-unfitted-level-1) 1pt solid;\n",
       "}\n",
       "\n",
       "#sk-container-id-1 a.estimator_doc_link.fitted {\n",
       "  /* fitted */\n",
       "  border: var(--sklearn-color-fitted-level-1) 1pt solid;\n",
       "  color: var(--sklearn-color-fitted-level-1);\n",
       "}\n",
       "\n",
       "/* On hover */\n",
       "#sk-container-id-1 a.estimator_doc_link:hover {\n",
       "  /* unfitted */\n",
       "  background-color: var(--sklearn-color-unfitted-level-3);\n",
       "  color: var(--sklearn-color-background);\n",
       "  text-decoration: none;\n",
       "}\n",
       "\n",
       "#sk-container-id-1 a.estimator_doc_link.fitted:hover {\n",
       "  /* fitted */\n",
       "  background-color: var(--sklearn-color-fitted-level-3);\n",
       "}\n",
       "</style><div id=\"sk-container-id-1\" class=\"sk-top-container\"><div class=\"sk-text-repr-fallback\"><pre>MultinomialNB()</pre><b>In a Jupyter environment, please rerun this cell to show the HTML representation or trust the notebook. <br />On GitHub, the HTML representation is unable to render, please try loading this page with nbviewer.org.</b></div><div class=\"sk-container\" hidden><div class=\"sk-item\"><div class=\"sk-estimator fitted sk-toggleable\"><input class=\"sk-toggleable__control sk-hidden--visually\" id=\"sk-estimator-id-1\" type=\"checkbox\" checked><label for=\"sk-estimator-id-1\" class=\"sk-toggleable__label fitted sk-toggleable__label-arrow\"><div><div>MultinomialNB</div></div><div><a class=\"sk-estimator-doc-link fitted\" rel=\"noreferrer\" target=\"_blank\" href=\"https://scikit-learn.org/1.6/modules/generated/sklearn.naive_bayes.MultinomialNB.html\">?<span>Documentation for MultinomialNB</span></a><span class=\"sk-estimator-doc-link fitted\">i<span>Fitted</span></span></div></label><div class=\"sk-toggleable__content fitted\"><pre>MultinomialNB()</pre></div> </div></div></div></div>"
      ],
      "text/plain": [
       "MultinomialNB()"
      ]
     },
     "execution_count": 19,
     "metadata": {},
     "output_type": "execute_result"
    }
   ],
   "source": [
    "# es muy fácil instanciar un modelo de clasificación Naïve Bayes y entrenarlo con sklearn\n",
    "clf = MultinomialNB()\n",
    "clf.fit(X_train, y_train)"
   ]
  },
  {
   "cell_type": "code",
   "execution_count": 20,
   "metadata": {
    "executionInfo": {
     "elapsed": 1103,
     "status": "ok",
     "timestamp": 1753835863424,
     "user": {
      "displayName": "Yandri Uchuari",
      "userId": "04950616635261089131"
     },
     "user_tz": 300
    },
    "id": "NrQjzM48Mu4T"
   },
   "outputs": [],
   "source": [
    "# con nuestro vectorizador ya fiteado en train, vectorizamos los textos\n",
    "# del conjunto de test\n",
    "X_test = tfidfvect.transform(newsgroups_test.data)\n",
    "y_test = newsgroups_test.target\n",
    "y_pred =  clf.predict(X_test)"
   ]
  },
  {
   "cell_type": "code",
   "execution_count": 21,
   "metadata": {
    "colab": {
     "base_uri": "https://localhost:8080/"
    },
    "executionInfo": {
     "elapsed": 8,
     "status": "ok",
     "timestamp": 1753835863439,
     "user": {
      "displayName": "Yandri Uchuari",
      "userId": "04950616635261089131"
     },
     "user_tz": 300
    },
    "id": "UkGJhetEPdA4",
    "outputId": "32a4228f-4aea-4e55-d6f0-9d3873c5b79f"
   },
   "outputs": [
    {
     "data": {
      "text/plain": [
       "0.5854345727938506"
      ]
     },
     "execution_count": 21,
     "metadata": {},
     "output_type": "execute_result"
    }
   ],
   "source": [
    "# el F1-score es una metrica adecuada para reportar desempeño de modelos de claificación\n",
    "# es robusta al desbalance de clases. El promediado 'macro' es el promedio de los\n",
    "# F1-score de cada clase. El promedio 'micro' es equivalente a la accuracy que no\n",
    "# es una buena métrica cuando los datasets son desbalanceados\n",
    "f1_score(y_test, y_pred, average='macro')"
   ]
  },
  {
   "cell_type": "markdown",
   "metadata": {
    "id": "McArD4rSDR2K"
   },
   "source": [
    "### Consigna del desafío 1"
   ]
  },
  {
   "cell_type": "markdown",
   "metadata": {
    "id": "EyDK4InMw-LR"
   },
   "source": [
    "**1**. Vectorizar documentos. Tomar 5 documentos al azar y medir similaridad con el resto de los documentos.\n",
    "Estudiar los 5 documentos más similares de cada uno analizar si tiene sentido\n",
    "la similaridad según el contenido del texto y la etiqueta de clasificación."
   ]
  },
  {
   "cell_type": "code",
   "execution_count": 34,
   "metadata": {
    "colab": {
     "base_uri": "https://localhost:8080/"
    },
    "executionInfo": {
     "elapsed": 15,
     "status": "ok",
     "timestamp": 1753836465545,
     "user": {
      "displayName": "Yandri Uchuari",
      "userId": "04950616635261089131"
     },
     "user_tz": 300
    },
    "id": "lXVDHo37xkXS",
    "outputId": "fca06a62-3000-4f4f-ccc9-44d8bf6377c1"
   },
   "outputs": [
    {
     "name": "stdout",
     "output_type": "stream",
     "text": [
      "Texto:  1\n",
      "================================================================================\n",
      "Documento índice 5486 - Etiqueta: talk.politics.misc\n",
      "\n",
      "So which are you advocating?\n",
      "\n",
      "That You know Nothing About American History, \n",
      "Or that You Know Nothing About the Bible?\n",
      "\n",
      "Is this a Restoration of the \"Know Nothing\" Party?\n",
      "\n",
      "ciao\n",
      "drieux\n",
      "\n",
      "ps: what WAS the \"Free Negro Sailor Act\" about,\n",
      "and what was the Supreme Court's Ruling On it... and\n",
      "More Importantly, how does this Complicate the Mythology\n",
      "that all blacks were slaves????\n",
      "\n",
      "\n",
      "\n",
      "\n",
      "Texto:  2\n",
      "================================================================================\n",
      "Documento índice 3701 - Etiqueta: comp.windows.x\n",
      "[again, poseted for a friend]\n",
      "\n",
      "Okay, I got such great response from my last question (thanks, everyone), \n",
      "lets try again:\n",
      "\n",
      "How can I tell if a colorcell is read-only?\n",
      "\n",
      "I want to use any read-only cells that are already in my colormap\n",
      "once I start running out of allocatable cells, using some arbitrary\n",
      "nearest color matching scheme to get those cells that come closest to\n",
      "a requested color.\n",
      "\n",
      "Once I determine if a cell is read-only, I assume I can then just request\n",
      "an XAllocColor() with the exact same color specifications and it will \n",
      "then be flagged as 'used' by my application so that it doesn't later get\n",
      "freed by someone else and allocated again as read-write to another\n",
      "application.\n",
      "\n",
      "So far, the only way I've figured out to do this is to write my own\n",
      "error handler and just go ahead and request the cells colors, once my\n",
      "colormap is all full up.  It should error out if the cell is non-shareable.\n",
      "But life would be much easier if I could just detect the\n",
      "read-only/shareable stuff directly...\n",
      "\n",
      "Any ideas?\n",
      "\n",
      "\n",
      "Texto:  3\n",
      "================================================================================\n",
      "Documento índice 6336 - Etiqueta: comp.windows.x\n",
      "I am currently attempting to get a copy of the HP Widget set compiled\n",
      "under Linux (SLS Release with kernel 99.6) and am running into some\n",
      "problems.  Actually, it seems that this is more of a GCC question,\n",
      "because I got it to compile without trouble using cc on an RS/6000.\n",
      "\tBasically, there are a number of functions with prototypes\n",
      "set up in, let's say, CompositeP.h, for instance, the composite\n",
      "widget's insert_child procedure is set up with the type :\n",
      "\n",
      "\ttypedef void (*XtWidgetProc) (Widget)\n",
      "\n",
      "but in several places in the HP source code, they reference the\n",
      "insert_child procedure and pass it multiple arguments instead of just\n",
      "one, as the prototype suggests.  For example:\n",
      "\n",
      "\t(*superclass->composite_class.insert_child)(w, args, p_num_args)\n",
      "\n",
      "Now, GCC chokes on this, giving an error message that too many arguments\n",
      "are passed to the function.  So, does anyone have any suggestions as to\n",
      "how to turn off this checking in GCC, or how I can go about changing the\n",
      "code to accomodate this call without changing /usr/include/X11/CompositeP.h,\n",
      "or has anyone successfully built the HP widget set and have any suggestions.\n",
      "\tMany thanks in advance for any help.\n",
      "\n",
      "\n",
      "\n",
      "Texto:  4\n",
      "================================================================================\n",
      "Documento índice 10737 - Etiqueta: rec.autos\n",
      "\n",
      "  I would suggest you take the car to the nearest Chevron dealer, with\n",
      "your own oil and filter.  Ask for an oil change.  It will cost less\n",
      "than $10.  Watch him/her do it.  Just from watching someone do a job,\n",
      "you will be able to learn and remember the sequence, and do it right\n",
      "when you do it yourself the next time.  Besides, when he/she loosens\n",
      "the drain nut, the next time around it will be easier for you.\n",
      "\n",
      "  If it is stuck, use an impact wrench.  Not too much force though.\n",
      "Use a new washer each time you put the nut back.....\n",
      "\n",
      "\n",
      "Texto:  5\n",
      "================================================================================\n",
      "Documento índice 2394 - Etiqueta: comp.os.ms-windows.misc\n",
      "//I'm using BC++'s ObjectWindows (version 3.1) and trying to get some data \n",
      "//processed in a window object. However, when the calling program invokes \n",
      "//the window object, it gives up the control to the window object, and keeps \n",
      "//executing the next statement. I would like the calling program, after \n",
      "//invoking the window object, to wait until the window object is closed. \n",
      "//Can I do that? My program may look like:\n",
      "\n",
      "class MyWindow : public TWindow\n",
      "{\n",
      "\t...\n",
      "};\n",
      "\n",
      "void MyCallingProg(...)  // Could the calling program be a C function?\n",
      "{\t...\n",
      "\tMyWindow *MyWinObj;\n",
      "\tMyWinObj = new MyWindow(...);\n",
      "\tGetApplication()->MakeWindow(MyWinObj);\n",
      "\tMyWinObj->Show(SW_SHOWNORMAL);\n",
      "\n",
      "\n"
     ]
    }
   ],
   "source": [
    "import numpy as np\n",
    "import random\n",
    "\n",
    "target_names = newsgroups_train.target_names\n",
    "\n",
    "#Semilla a usar\n",
    "np.random.seed(19)\n",
    "\n",
    "#Seleccionar 5 documentos al azar\n",
    "random_docs_idx = np.random.choice(X_train.shape[0], size=5, replace=False)\n",
    "\n",
    "count = 1\n",
    "#Mostrar los 5 textos completos\n",
    "for idx in random_docs_idx:\n",
    "    print(\"Texto: \",count)\n",
    "    print(\"=\"*80)\n",
    "    print(f\"Documento índice {idx} - Etiqueta: {target_names[y_train[idx]]}\")\n",
    "    print(newsgroups_train.data[idx])\n",
    "    print(\"\\n\")\n",
    "    count += 1\n"
   ]
  },
  {
   "cell_type": "code",
   "execution_count": 36,
   "metadata": {
    "executionInfo": {
     "elapsed": 369,
     "status": "ok",
     "timestamp": 1753836584827,
     "user": {
      "displayName": "Yandri Uchuari",
      "userId": "04950616635261089131"
     },
     "user_tz": 300
    },
    "id": "UABaBdI2x2BC"
   },
   "outputs": [],
   "source": [
    "#Calcular similitud coseno con todos los documentos\n",
    "similar_docs = {}\n",
    "for idx in random_docs_idx:\n",
    "    sim_scores = cosine_similarity(X_train[idx], X_train).flatten()\n",
    "    # Ordenar por similitud (ignorando el mismo documento)\n",
    "    similar_indices = sim_scores.argsort()[::-1][1:6]  # top 5\n",
    "    similar_docs[idx] = {\n",
    "        \"texto\": newsgroups_train.data[idx][:300].replace(\"\\n\", \" \") + \"...\",\n",
    "        \"etiqueta\": target_names[y_train[idx]],\n",
    "        \"similares\": [\n",
    "            {\n",
    "                \"indice\": i,\n",
    "                \"similitud\": sim_scores[i],\n",
    "                \"etiqueta\": target_names[y_train[i]],\n",
    "                \"texto\": newsgroups_train.data[i][:200].replace(\"\\n\", \" \") + \"...\"\n",
    "            }\n",
    "            for i in similar_indices\n",
    "        ]\n",
    "    }"
   ]
  },
  {
   "cell_type": "code",
   "execution_count": 37,
   "metadata": {
    "colab": {
     "base_uri": "https://localhost:8080/"
    },
    "executionInfo": {
     "elapsed": 4,
     "status": "ok",
     "timestamp": 1753836591827,
     "user": {
      "displayName": "Yandri Uchuari",
      "userId": "04950616635261089131"
     },
     "user_tz": 300
    },
    "id": "QE01lL13x2Df",
    "outputId": "55ca4d78-6fd8-46e8-f805-708d99ee4dce"
   },
   "outputs": [
    {
     "name": "stdout",
     "output_type": "stream",
     "text": [
      "================================================================================\n",
      "Documento base (índice 5486) - Etiqueta: talk.politics.misc\n",
      " So which are you advocating?  That You know Nothing About American History,  Or that You Know Nothing About the Bible?  Is this a Restoration of the \"Know Nothing\" Party?  ciao drieux  ps: what WAS the \"Free Negro Sailor Act\" about, and what was the Supreme Court's Ruling On it... and More Importan...\n",
      "\n",
      "Documentos más similares:\n",
      "  -> (índice 9623) similitud=0.2312 Etiqueta: talk.politics.mideast\n",
      "     Accounts of Anti-Armenian Human Right Violations in Azerbaijan #012                  Prelude to Current Events in Nagorno-Karabakh          +---------------------------------------------------------+ ...\n",
      "\n",
      "  -> (índice 3902) similitud=0.2083 Etiqueta: talk.religion.misc\n",
      "        Are you your own master?  Do you have any habits that you cannot break? For one, you seem unable to master your lack of desire to understand even the slightest concept of the Bible.  Seems that ign...\n",
      "\n",
      "  -> (índice 7464) similitud=0.2052 Etiqueta: soc.religion.christian\n",
      "     Golgotha the whole process of the fall of man  This was precisely my point.  From a theological bent, those who lived immediately after the flood, such as Noah, Ham, his son Cush, and his son Nimrod h...\n",
      "\n",
      "  -> (índice 2871) similitud=0.2035 Etiqueta: talk.politics.misc\n",
      "       (drieux, just drieux) writes (about the armed services):  Well, uh, actually I agree.  ...\n",
      "\n",
      "  -> (índice 10550) similitud=0.2017 Etiqueta: talk.religion.misc\n",
      "      #Rick Anderson replied to my letter with... # #ra> In article <C5ELp2.L0C@acsu.buffalo.edu>, #ra>  (...)  # Just briefly, on something that you mentioned in passing. You refer to # differing interpre...\n",
      "\n",
      "================================================================================\n",
      "Documento base (índice 3701) - Etiqueta: comp.windows.x\n",
      "[again, poseted for a friend]  Okay, I got such great response from my last question (thanks, everyone),  lets try again:  How can I tell if a colorcell is read-only?  I want to use any read-only cells that are already in my colormap once I start running out of allocatable cells, using some arbitrar...\n",
      "\n",
      "Documentos más similares:\n",
      "  -> (índice 3307) similitud=0.4784 Etiqueta: comp.windows.x\n",
      "     [posted for a friend]  Okay, I looked through the FAQs and didn't see this, but I know its come up before...  XAllocColor is supposed to do the following in order:     Try to find an exact match read-...\n",
      "\n",
      "  -> (índice 10158) similitud=0.3283 Etiqueta: comp.windows.x\n",
      "     Can anyone out there tell me how to get the total number of color cells allocated in the default colormap?  e.g.   colormap = DefaultColormap(mydisplay, myscreen);  The MAXIMUM number of allocated cel...\n",
      "\n",
      "  -> (índice 4666) similitud=0.2576 Etiqueta: comp.windows.x\n",
      "      I expect what is going on here is that your colormap is full and, when the new application starts up, it cannot add the colors that it needs to the colormap. It therefore has to pick and choose from ...\n",
      "\n",
      "  -> (índice 4614) similitud=0.2449 Etiqueta: comp.windows.x\n",
      "     Archive-name: x-faq/part5 Last-modified: 1993/04/04  ---------------------------------------------------------------------- Subject: 119)  I'm writing a widget and can't use a float as a resource valu...\n",
      "\n",
      "  -> (índice 7875) similitud=0.2407 Etiqueta: comp.windows.x\n",
      "     Hi, Experts,   I'm kind of new to X. The following question is strange to me. I am trying to modify the contents of the colormap but failed without reason (to me). I am using the following piece of co...\n",
      "\n",
      "================================================================================\n",
      "Documento base (índice 6336) - Etiqueta: comp.windows.x\n",
      "I am currently attempting to get a copy of the HP Widget set compiled under Linux (SLS Release with kernel 99.6) and am running into some problems.  Actually, it seems that this is more of a GCC question, because I got it to compile without trouble using cc on an RS/6000. \tBasically, there are a num...\n",
      "\n",
      "Documentos más similares:\n",
      "  -> (índice 4234) similitud=0.3261 Etiqueta: comp.windows.x\n",
      "     Archive-name: Xt-FAQ Version: $Id: FAQ-Xt,v 1.28 93/04/02 12:41:12 ware Exp $  \t\t    The X Toolkit Intrinsics F.A.Q \t\t\t  A monthly posting   This article contains the answers to some Frequently Asked ...\n",
      "\n",
      "  -> (índice 5451) similitud=0.2838 Etiqueta: comp.windows.x\n",
      "     Not being an Xt programmer by any stretch of the imagination, this is driving me crazy and it's probably really simple to do.  I need to make a composite widget that does nothing at all but is merely ...\n",
      "\n",
      "  -> (índice 4614) similitud=0.2729 Etiqueta: comp.windows.x\n",
      "     Archive-name: x-faq/part5 Last-modified: 1993/04/04  ---------------------------------------------------------------------- Subject: 119)  I'm writing a widget and can't use a float as a resource valu...\n",
      "\n",
      "  -> (índice 7972) similitud=0.2599 Etiqueta: comp.windows.x\n",
      "     Archive-name: x-faq/part4 Last-modified: 1993/04/04  ---------------------------------------------------------------------- Subject:  80)! Where can I get an X-based plotting program?  These usually a...\n",
      "\n",
      "  -> (índice 1702) similitud=0.2478 Etiqueta: comp.windows.x\n",
      "     I am writing a custom widget to support the display of graphics and imagery.  The user of the widget will be able to specify, when creating it, whether it is to operate in X or GL mode.  I have set up...\n",
      "\n",
      "================================================================================\n",
      "Documento base (índice 10737) - Etiqueta: rec.autos\n",
      "   I would suggest you take the car to the nearest Chevron dealer, with your own oil and filter.  Ask for an oil change.  It will cost less than $10.  Watch him/her do it.  Just from watching someone do a job, you will be able to learn and remember the sequence, and do it right when you do it yourse...\n",
      "\n",
      "Documentos más similares:\n",
      "  -> (índice 2554) similitud=0.2684 Etiqueta: rec.autos\n",
      "       *nnnnnnnng* Thank you for playing, I cannot agree with this.  I believed this and to put it nicely, it was a piece of junk!  I loved this car, I babied it, I pampered it, and after 2 years, it just ...\n",
      "\n",
      "  -> (índice 6224) similitud=0.2639 Etiqueta: rec.autos\n",
      "     Archive-name: rec-autos/part5  [this article is one of a pair of articles containing commonly asked automotive questions; the other article contains questions more geared to the automotive enthusiast,...\n",
      "\n",
      "  -> (índice 6055) similitud=0.2632 Etiqueta: talk.politics.misc\n",
      "      [ These two paragraphs are from two different posts.  In splicing them    together it is not my intention to change Steve's meaning or misrepresent   him in any way.  I don't *think* I've done so. ] ...\n",
      "\n",
      "  -> (índice 1533) similitud=0.2599 Etiqueta: soc.religion.christian\n",
      "     ******* *******  This is somewhat long, but pleas read it!!!!!!!!!!!!!!!!! *******    Boy am i glad you decided to read this. I've got a problem that  I need as many people's help from as possible.  B...\n",
      "\n",
      "  -> (índice 9623) similitud=0.2598 Etiqueta: talk.politics.mideast\n",
      "     Accounts of Anti-Armenian Human Right Violations in Azerbaijan #012                  Prelude to Current Events in Nagorno-Karabakh          +---------------------------------------------------------+ ...\n",
      "\n",
      "================================================================================\n",
      "Documento base (índice 2394) - Etiqueta: comp.os.ms-windows.misc\n",
      "//I'm using BC++'s ObjectWindows (version 3.1) and trying to get some data  //processed in a window object. However, when the calling program invokes  //the window object, it gives up the control to the window object, and keeps  //executing the next statement. I would like the calling program, after...\n",
      "\n",
      "Documentos más similares:\n",
      "  -> (índice 4503) similitud=0.9399 Etiqueta: comp.os.ms-windows.misc\n",
      "     // Hope I am in the right group! I'm using BC++'s ObjectWindows (version 3.1), // trying to get some date processed in a window object. However, when invoking // the window object, the calling program...\n",
      "\n",
      "  -> (índice 2851) similitud=0.2726 Etiqueta: comp.windows.x\n",
      "     I am working on an X-Window based application that needs to  override some of the window manager focus processing.  I am  using X11R4 and Motif 1.1 currently, although I will also be  working with Ope...\n",
      "\n",
      "  -> (índice 151) similitud=0.2617 Etiqueta: sci.space\n",
      "     Tonigth a TV journal here in Brasil announced that an object, beyond Pluto's orbit, was found by an observatory at Hawaii. They named the object Karla.  \tThe program said the object wasn't a gaseous g...\n",
      "\n",
      "  -> (índice 3931) similitud=0.2553 Etiqueta: comp.windows.x\n",
      "         Sorry, but olwm and tvtwm don't do it. They place the title at that position    and the window at a position below it.     This becomes a problem when you want a program to be able to save its cur...\n",
      "\n",
      "  -> (índice 7933) similitud=0.2416 Etiqueta: comp.windows.x\n",
      "      The reason they place their outside corner at the location you requested is because that's what the ICCCM says they should do.   This code will almost certainly break.  Calling XMapWindow and then XF...\n",
      "\n"
     ]
    }
   ],
   "source": [
    "\n",
    "# 3. Mostrar resultados\n",
    "for doc_idx, info in similar_docs.items():\n",
    "    print(\"=\"*80)\n",
    "    print(f\"Documento base (índice {doc_idx}) - Etiqueta: {info['etiqueta']}\")\n",
    "    print(info['texto'])\n",
    "    print(\"\\nDocumentos más similares:\")\n",
    "    for sim in info['similares']:\n",
    "        print(f\"  -> (índice {sim['indice']}) similitud={sim['similitud']:.4f} \"\n",
    "              f\"Etiqueta: {sim['etiqueta']}\")\n",
    "        print(f\"     {sim['texto']}\\n\")"
   ]
  },
  {
   "cell_type": "markdown",
   "metadata": {
    "id": "zfOP7103whTk"
   },
   "source": [
    "**2**. Entrenar modelos de clasificación Naïve Bayes para maximizar el desempeño de clasificación\n",
    "(f1-score macro) en el conjunto de datos de test. Considerar cambiar parámetros\n",
    "de instanciación del vectorizador y los modelos y probar modelos de Naïve Bayes Multinomial\n",
    "y ComplementNB."
   ]
  },
  {
   "cell_type": "code",
   "execution_count": 38,
   "metadata": {
    "colab": {
     "base_uri": "https://localhost:8080/"
    },
    "executionInfo": {
     "elapsed": 350951,
     "status": "ok",
     "timestamp": 1753837019370,
     "user": {
      "displayName": "Yandri Uchuari",
      "userId": "04950616635261089131"
     },
     "user_tz": 300
    },
    "id": "FxVYYIhnxm_V",
    "outputId": "68682970-e028-46b1-a9c6-a365f9831a42"
   },
   "outputs": [
    {
     "name": "stdout",
     "output_type": "stream",
     "text": [
      "Mejores parámetros encontrados:\n",
      "{'clf': ComplementNB(), 'clf__alpha': 0.1, 'tfidf__ngram_range': (1, 2), 'tfidf__stop_words': 'english'}\n",
      "Mejor F1-score (cross-validation): 0.7667\n",
      "Reporte clasificación en test:\n",
      "                          precision    recall  f1-score   support\n",
      "\n",
      "             alt.atheism       0.34      0.48      0.39       319\n",
      "           comp.graphics       0.73      0.72      0.73       389\n",
      " comp.os.ms-windows.misc       0.69      0.62      0.65       394\n",
      "comp.sys.ibm.pc.hardware       0.66      0.69      0.67       392\n",
      "   comp.sys.mac.hardware       0.79      0.71      0.75       385\n",
      "          comp.windows.x       0.80      0.80      0.80       395\n",
      "            misc.forsale       0.78      0.79      0.78       390\n",
      "               rec.autos       0.81      0.74      0.77       396\n",
      "         rec.motorcycles       0.82      0.77      0.79       398\n",
      "      rec.sport.baseball       0.93      0.84      0.88       397\n",
      "        rec.sport.hockey       0.88      0.94      0.91       399\n",
      "               sci.crypt       0.77      0.81      0.79       396\n",
      "         sci.electronics       0.73      0.58      0.64       393\n",
      "                 sci.med       0.80      0.79      0.80       396\n",
      "               sci.space       0.76      0.80      0.78       394\n",
      "  soc.religion.christian       0.60      0.87      0.71       398\n",
      "      talk.politics.guns       0.60      0.71      0.65       364\n",
      "   talk.politics.mideast       0.78      0.84      0.81       376\n",
      "      talk.politics.misc       0.68      0.45      0.54       310\n",
      "      talk.religion.misc       0.52      0.23      0.32       251\n",
      "\n",
      "                accuracy                           0.72      7532\n",
      "               macro avg       0.72      0.71      0.71      7532\n",
      "            weighted avg       0.73      0.72      0.72      7532\n",
      "\n",
      "F1-score macro en test: 0.7098\n"
     ]
    }
   ],
   "source": [
    "from sklearn.pipeline import Pipeline\n",
    "from sklearn.naive_bayes import MultinomialNB, ComplementNB\n",
    "from sklearn.feature_extraction.text import TfidfVectorizer\n",
    "from sklearn.model_selection import GridSearchCV\n",
    "from sklearn.metrics import f1_score, classification_report\n",
    "\n",
    "# =====================\n",
    "# 1. Definir pipeline base\n",
    "# =====================\n",
    "pipeline = Pipeline([\n",
    "    ('tfidf', TfidfVectorizer()),\n",
    "    ('clf', MultinomialNB())\n",
    "])\n",
    "\n",
    "# =====================\n",
    "# 2. Definir espacio de parámetros para GridSearch\n",
    "# =====================\n",
    "parameters = [\n",
    "    {\n",
    "        'tfidf__ngram_range': [(1, 1), (1, 2)],    # Unigramas vs Unigramas+Bigramas\n",
    "        'tfidf__stop_words': [None, 'english'],    # Con o sin stopwords\n",
    "        'clf': [MultinomialNB()],\n",
    "        'clf__alpha': [0.1, 0.5, 1.0]\n",
    "    },\n",
    "    {\n",
    "        'tfidf__ngram_range': [(1, 1), (1, 2)],\n",
    "        'tfidf__stop_words': [None, 'english'],\n",
    "        'clf': [ComplementNB()],\n",
    "        'clf__alpha': [0.1, 0.5, 1.0]\n",
    "    }\n",
    "]\n",
    "\n",
    "# =====================\n",
    "# 3. GridSearch con validación cruzada\n",
    "# =====================\n",
    "grid = GridSearchCV(pipeline, parameters, cv=3, n_jobs=-1, scoring='f1_macro')\n",
    "grid.fit(newsgroups_train.data, newsgroups_train.target)\n",
    "\n",
    "print(\"Mejores parámetros encontrados:\")\n",
    "print(grid.best_params_)\n",
    "print(f\"Mejor F1-score (cross-validation): {grid.best_score_:.4f}\")\n",
    "\n",
    "# =====================\n",
    "# 4. Evaluar en conjunto de test\n",
    "# =====================\n",
    "y_pred = grid.predict(newsgroups_test.data)\n",
    "print(\"Reporte clasificación en test:\")\n",
    "print(classification_report(newsgroups_test.target, y_pred, target_names=newsgroups_test.target_names))\n",
    "\n",
    "f1_macro_test = f1_score(newsgroups_test.target, y_pred, average='macro')\n",
    "print(f\"F1-score macro en test: {f1_macro_test:.4f}\")\n"
   ]
  },
  {
   "cell_type": "markdown",
   "metadata": {
    "id": "SL78TDzcxo18"
   },
   "source": [
    "**3**. Transponer la matriz documento-término. De esa manera se obtiene una matriz\n",
    "término-documento que puede ser interpretada como una colección de vectorización de palabras.\n",
    "Estudiar ahora similaridad entre palabras tomando 5 palabras y estudiando sus 5 más similares. **La elección de palabras no debe ser al azar para evitar la aparición de términos poco interpretables, elegirlas \"manualmente\"**."
   ]
  },
  {
   "cell_type": "code",
   "execution_count": 40,
   "metadata": {
    "colab": {
     "base_uri": "https://localhost:8080/"
    },
    "executionInfo": {
     "elapsed": 5550,
     "status": "ok",
     "timestamp": 1753837151905,
     "user": {
      "displayName": "Yandri Uchuari",
      "userId": "04950616635261089131"
     },
     "user_tz": 300
    },
    "id": "mQAJ21zkxpSj",
    "outputId": "1d5829eb-dd77-42b3-99cf-f67badea917c"
   },
   "outputs": [
    {
     "name": "stdout",
     "output_type": "stream",
     "text": [
      "================================================================================\n",
      "Palabra base: 'space'\n",
      "  -> nasa                 similitud=0.3304\n",
      "  -> seds                 similitud=0.2966\n",
      "  -> shuttle              similitud=0.2928\n",
      "  -> enfant               similitud=0.2803\n",
      "  -> seti                 similitud=0.2465\n",
      "================================================================================\n",
      "Palabra base: 'god'\n",
      "  -> jesus                similitud=0.2688\n",
      "  -> bible                similitud=0.2616\n",
      "  -> that                 similitud=0.2560\n",
      "  -> existence            similitud=0.2548\n",
      "  -> christ               similitud=0.2511\n",
      "================================================================================\n",
      "Palabra base: 'windows'\n",
      "  -> dos                  similitud=0.3037\n",
      "  -> ms                   similitud=0.2320\n",
      "  -> microsoft            similitud=0.2219\n",
      "  -> nt                   similitud=0.2140\n",
      "  -> for                  similitud=0.1930\n",
      "================================================================================\n",
      "Palabra base: 'hockey'\n",
      "  -> ncaa                 similitud=0.2743\n",
      "  -> nhl                  similitud=0.2653\n",
      "  -> affiliates           similitud=0.2480\n",
      "  -> xenophobes           similitud=0.2426\n",
      "  -> sportschannel        similitud=0.2228\n",
      "================================================================================\n",
      "Palabra base: 'gun'\n",
      "  -> guns                 similitud=0.3582\n",
      "  -> crime                similitud=0.2441\n",
      "  -> handgun              similitud=0.2391\n",
      "  -> homicides            similitud=0.2331\n",
      "  -> firearms             similitud=0.2328\n"
     ]
    }
   ],
   "source": [
    "from sklearn.feature_extraction.text import TfidfVectorizer\n",
    "from sklearn.metrics.pairwise import cosine_similarity\n",
    "\n",
    "# 1. Crear y ajustar el vectorizador (si no está ya creado)\n",
    "tfidf_vect = TfidfVectorizer()\n",
    "X_train = tfidf_vect.fit_transform(newsgroups_train.data)\n",
    "\n",
    "# 2. Transponer matriz documento-término (término-documento)\n",
    "X_terms = X_train.T\n",
    "\n",
    "# 3. Diccionario inverso índice → palabra\n",
    "idx2word = {v: k for k, v in tfidf_vect.vocabulary_.items()}\n",
    "\n",
    "# 4. Elegir palabras manualmente\n",
    "selected_words = [\"space\", \"god\", \"windows\", \"hockey\", \"gun\"]\n",
    "\n",
    "# 5. Calcular similaridad de cada palabra con el resto\n",
    "for word in selected_words:\n",
    "    if word not in tfidf_vect.vocabulary_:\n",
    "        print(f\"'{word}' no está en el vocabulario\")\n",
    "        continue\n",
    "\n",
    "    word_idx = tfidf_vect.vocabulary_[word]\n",
    "    word_vector = X_terms[word_idx]\n",
    "\n",
    "    sim_scores = cosine_similarity(word_vector, X_terms).flatten()\n",
    "    # Ordenar excluyendo la propia palabra\n",
    "    similar_indices = sim_scores.argsort()[::-1][1:6]\n",
    "\n",
    "    print(\"=\"*80)\n",
    "    print(f\"Palabra base: '{word}'\")\n",
    "    for idx in similar_indices:\n",
    "        similar_word = idx2word[idx]\n",
    "        print(f\"  -> {similar_word:20s} similitud={sim_scores[idx]:.4f}\")\n"
   ]
  },
  {
   "cell_type": "code",
   "execution_count": null,
   "metadata": {
    "id": "yQ2vNWIq1W1S"
   },
   "outputs": [],
   "source": []
  },
  {
   "cell_type": "markdown",
   "metadata": {},
   "source": [
    "**Conclusion**\n",
    "En este desafío aprendi a transformar texto en vectores mediante bolsa de palabras y TF–IDF, y a entrenar modelos probabilísticos como Naïve Bayes para clasificación de documentos. \n",
    "\n",
    "Pude comprobar que el modelo puede identificar correctamente las categorías del dataset y que TF–IDF ofrece representaciones más ricas que mejoran el rendimiento respecto al conteo simple.\n",
    "\n",
    "**Recomendación**\n",
    "\n",
    "Recomiendo seguir testeando otros algoritmos de clasificación (como SVM o redes neuronales ligeras) y ampliar la experimentación con preprocesamiento de texto (eliminación de stopwords, lematización). \n",
    "\n",
    "Además, resulta útil aplicar estos métodos a un corpus en español para comprobar la adaptabilidad del enfoque a distintos idiomas."
   ]
  },
  {
   "cell_type": "markdown",
   "metadata": {},
   "source": []
  }
 ],
 "metadata": {
  "colab": {
   "provenance": []
  },
  "kernelspec": {
   "display_name": ".venv",
   "language": "python",
   "name": "python3"
  },
  "language_info": {
   "codemirror_mode": {
    "name": "ipython",
    "version": 3
   },
   "file_extension": ".py",
   "mimetype": "text/x-python",
   "name": "python",
   "nbconvert_exporter": "python",
   "pygments_lexer": "ipython3",
   "version": "3.12.3"
  }
 },
 "nbformat": 4,
 "nbformat_minor": 0
}
